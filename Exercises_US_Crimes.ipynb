{
 "cells": [
  {
   "cell_type": "markdown",
   "metadata": {
    "toc": true
   },
   "source": [
    "<h1>Table of Contents<span class=\"tocSkip\"></span></h1>\n",
    "<div class=\"toc\"><ul class=\"toc-item\"><li><span><a href=\"#Step-1.-Import-the-necessary-libraries-(pandas)\" data-toc-modified-id=\"Step-1.-Import-the-necessary-libraries-(pandas)-1\"><span class=\"toc-item-num\">1&nbsp;&nbsp;</span>Step 1. Import the necessary libraries (pandas)</a></span></li><li><span><a href=\"#Step-2.-Import-the-dataset-from-Teams-(US_Crime_Rates_1960_2014.csv)\" data-toc-modified-id=\"Step-2.-Import-the-dataset-from-Teams-(US_Crime_Rates_1960_2014.csv)-2\"><span class=\"toc-item-num\">2&nbsp;&nbsp;</span>Step 2. Import the dataset from Teams (US_Crime_Rates_1960_2014.csv)</a></span></li><li><span><a href=\"#Show-the-last-3-rows-of-the-dataFrame\" data-toc-modified-id=\"Show-the-last-3-rows-of-the-dataFrame-3\"><span class=\"toc-item-num\">3&nbsp;&nbsp;</span>Show the last 3 rows of the dataFrame</a></span></li><li><span><a href=\"#Step-3.-Set-the-'Year'-column-as-index\" data-toc-modified-id=\"Step-3.-Set-the-'Year'-column-as-index-4\"><span class=\"toc-item-num\">4&nbsp;&nbsp;</span>Step 3. Set the 'Year' column as index</a></span></li><li><span><a href=\"#Step-4.-See-the-first-6-entries,-'Population'-and-'Violent'-columns-only\" data-toc-modified-id=\"Step-4.-See-the-first-6-entries,-'Population'-and-'Violent'-columns-only-5\"><span class=\"toc-item-num\">5&nbsp;&nbsp;</span>Step 4. See the first 6 entries, 'Population' and 'Violent' columns only</a></span></li><li><span><a href=\"#Step-6.-What-is-the-number-of-observations-in-the-dataset?\" data-toc-modified-id=\"Step-6.-What-is-the-number-of-observations-in-the-dataset?-6\"><span class=\"toc-item-num\">6&nbsp;&nbsp;</span>Step 6. What is the number of observations in the dataset?</a></span></li><li><span><a href=\"#Step-7.-What-is-the-number-of-columns-in-the-dataset?\" data-toc-modified-id=\"Step-7.-What-is-the-number-of-columns-in-the-dataset?-7\"><span class=\"toc-item-num\">7&nbsp;&nbsp;</span>Step 7. What is the number of columns in the dataset?</a></span></li><li><span><a href=\"#Step-8.-Print-the-name-of-all-the-columns.\" data-toc-modified-id=\"Step-8.-Print-the-name-of-all-the-columns.-8\"><span class=\"toc-item-num\">8&nbsp;&nbsp;</span>Step 8. Print the name of all the columns.</a></span></li><li><span><a href=\"#Step-9.-What-is-the-data-type-of-each-column?\" data-toc-modified-id=\"Step-9.-What-is-the-data-type-of-each-column?-9\"><span class=\"toc-item-num\">9&nbsp;&nbsp;</span>Step 9. What is the data type of each column?</a></span></li><li><span><a href=\"#Step-10.-Summarize-the-DataFrame.\" data-toc-modified-id=\"Step-10.-Summarize-the-DataFrame.-10\"><span class=\"toc-item-num\">10&nbsp;&nbsp;</span>Step 10. Summarize the DataFrame.</a></span></li><li><span><a href=\"#Step-11.-What-is-the-average-population-was-in-US-in-1960s-(1960-1969)?\" data-toc-modified-id=\"Step-11.-What-is-the-average-population-was-in-US-in-1960s-(1960-1969)?-11\"><span class=\"toc-item-num\">11&nbsp;&nbsp;</span>Step 11. What is the average population was in US in 1960s (1960-1969)?</a></span></li><li><span><a href=\"#Step-12.-What-was-the-most-frequent-type-of-crime-in-2014?\" data-toc-modified-id=\"Step-12.-What-was-the-most-frequent-type-of-crime-in-2014?-12\"><span class=\"toc-item-num\">12&nbsp;&nbsp;</span>Step 12. What was the most frequent type of crime in 2014?</a></span></li><li><span><a href=\"#Step-13.-What-was-the-number-of-Robbery-crimes-between-2000-and-2014,-including-both?\" data-toc-modified-id=\"Step-13.-What-was-the-number-of-Robbery-crimes-between-2000-and-2014,-including-both?-13\"><span class=\"toc-item-num\">13&nbsp;&nbsp;</span>Step 13. What was the number of Robbery crimes between 2000 and 2014, including both?</a></span></li><li><span><a href=\"#Step-14.-What-%-of-population-was-killed-in-Murder-crimes-in-2000?\" data-toc-modified-id=\"Step-14.-What-%-of-population-was-killed-in-Murder-crimes-in-2000?-14\"><span class=\"toc-item-num\">14&nbsp;&nbsp;</span>Step 14. What % of population was killed in Murder crimes in 2000?</a></span></li><li><span><a href=\"#Step-15.-By-what-percentage-with-respect-to-Population-did-crime-increase-in-2014-compared-to-1960?\" data-toc-modified-id=\"Step-15.-By-what-percentage-with-respect-to-Population-did-crime-increase-in-2014-compared-to-1960?-15\"><span class=\"toc-item-num\">15&nbsp;&nbsp;</span>Step 15. By what percentage with respect to Population did crime increase in 2014 compared to 1960?</a></span></li><li><span><a href=\"#Step-16.-What-types-of-crime-affected-more-than-1%-of-population-in-2010?-(suppose-each-crime-occurs-only-once-for-each-person)\" data-toc-modified-id=\"Step-16.-What-types-of-crime-affected-more-than-1%-of-population-in-2010?-(suppose-each-crime-occurs-only-once-for-each-person)-16\"><span class=\"toc-item-num\">16&nbsp;&nbsp;</span>Step 16. What types of crime affected more than 1% of population in 2010? (suppose each crime occurs only once for each person)</a></span></li><li><span><a href=\"#Step-17.-In-which-year-the-Violent-crime-rate-(as-%-of-Total)-was-the-lowest?\" data-toc-modified-id=\"Step-17.-In-which-year-the-Violent-crime-rate-(as-%-of-Total)-was-the-lowest?-17\"><span class=\"toc-item-num\">17&nbsp;&nbsp;</span>Step 17. In which year the Violent crime rate (as % of Total) was the lowest?</a></span></li><li><span><a href=\"#Step-18.-In-which-year-the-forcible-rape-crime-rate-(as-%-of-Pupolation)-was-the-highest?\" data-toc-modified-id=\"Step-18.-In-which-year-the-forcible-rape-crime-rate-(as-%-of-Pupolation)-was-the-highest?-18\"><span class=\"toc-item-num\">18&nbsp;&nbsp;</span>Step 18. In which year the forcible rape crime rate (as % of Pupolation) was the highest?</a></span></li><li><span><a href=\"#Step-19-20.-Come-up-with-2-questions-of-your-own-that-you-would-like-to-analyze\" data-toc-modified-id=\"Step-19-20.-Come-up-with-2-questions-of-your-own-that-you-would-like-to-analyze-19\"><span class=\"toc-item-num\">19&nbsp;&nbsp;</span>Step 19-20. Come up with 2 questions of your own that you would like to analyze</a></span></li></ul></div>"
   ]
  },
  {
   "cell_type": "markdown",
   "metadata": {},
   "source": [
    "# Ex2 - Getting and Knowing your Data"
   ]
  },
  {
   "cell_type": "markdown",
   "metadata": {},
   "source": [
    "\n",
    "\n",
    "### Step 1. Import the necessary libraries (pandas)"
   ]
  },
  {
   "cell_type": "code",
   "execution_count": 1,
   "metadata": {
    "ExecuteTime": {
     "end_time": "2021-10-28T07:57:54.220770Z",
     "start_time": "2021-10-28T07:57:53.931525Z"
    }
   },
   "outputs": [],
   "source": [
    "import pandas as pd\n"
   ]
  },
  {
   "cell_type": "markdown",
   "metadata": {},
   "source": [
    "### Step 2. Import the dataset from Teams (US_Crime_Rates_1960_2014.csv)"
   ]
  },
  {
   "cell_type": "code",
   "execution_count": 2,
   "metadata": {
    "ExecuteTime": {
     "end_time": "2021-10-28T07:57:55.731436Z",
     "start_time": "2021-10-28T07:57:55.724353Z"
    }
   },
   "outputs": [
    {
     "data": {
      "text/html": [
       "<div>\n",
       "<style scoped>\n",
       "    .dataframe tbody tr th:only-of-type {\n",
       "        vertical-align: middle;\n",
       "    }\n",
       "\n",
       "    .dataframe tbody tr th {\n",
       "        vertical-align: top;\n",
       "    }\n",
       "\n",
       "    .dataframe thead th {\n",
       "        text-align: right;\n",
       "    }\n",
       "</style>\n",
       "<table border=\"1\" class=\"dataframe\">\n",
       "  <thead>\n",
       "    <tr style=\"text-align: right;\">\n",
       "      <th></th>\n",
       "      <th>Year</th>\n",
       "      <th>Population</th>\n",
       "      <th>Total</th>\n",
       "      <th>Violent</th>\n",
       "      <th>Property</th>\n",
       "      <th>Murder</th>\n",
       "      <th>Forcible_Rape</th>\n",
       "      <th>Robbery</th>\n",
       "      <th>Aggravated_assault</th>\n",
       "      <th>Burglary</th>\n",
       "      <th>Larceny_Theft</th>\n",
       "      <th>Vehicle_Theft</th>\n",
       "    </tr>\n",
       "  </thead>\n",
       "  <tbody>\n",
       "    <tr>\n",
       "      <th>0</th>\n",
       "      <td>1960</td>\n",
       "      <td>179323175</td>\n",
       "      <td>3384200</td>\n",
       "      <td>288460</td>\n",
       "      <td>3095700</td>\n",
       "      <td>9110</td>\n",
       "      <td>17190</td>\n",
       "      <td>107840</td>\n",
       "      <td>154320</td>\n",
       "      <td>912100</td>\n",
       "      <td>1855400</td>\n",
       "      <td>328200</td>\n",
       "    </tr>\n",
       "    <tr>\n",
       "      <th>1</th>\n",
       "      <td>1961</td>\n",
       "      <td>182992000</td>\n",
       "      <td>3488000</td>\n",
       "      <td>289390</td>\n",
       "      <td>3198600</td>\n",
       "      <td>8740</td>\n",
       "      <td>17220</td>\n",
       "      <td>106670</td>\n",
       "      <td>156760</td>\n",
       "      <td>949600</td>\n",
       "      <td>1913000</td>\n",
       "      <td>336000</td>\n",
       "    </tr>\n",
       "    <tr>\n",
       "      <th>2</th>\n",
       "      <td>1962</td>\n",
       "      <td>185771000</td>\n",
       "      <td>3752200</td>\n",
       "      <td>301510</td>\n",
       "      <td>3450700</td>\n",
       "      <td>8530</td>\n",
       "      <td>17550</td>\n",
       "      <td>110860</td>\n",
       "      <td>164570</td>\n",
       "      <td>994300</td>\n",
       "      <td>2089600</td>\n",
       "      <td>366800</td>\n",
       "    </tr>\n",
       "    <tr>\n",
       "      <th>3</th>\n",
       "      <td>1963</td>\n",
       "      <td>188483000</td>\n",
       "      <td>4109500</td>\n",
       "      <td>316970</td>\n",
       "      <td>3792500</td>\n",
       "      <td>8640</td>\n",
       "      <td>17650</td>\n",
       "      <td>116470</td>\n",
       "      <td>174210</td>\n",
       "      <td>1086400</td>\n",
       "      <td>2297800</td>\n",
       "      <td>408300</td>\n",
       "    </tr>\n",
       "    <tr>\n",
       "      <th>4</th>\n",
       "      <td>1964</td>\n",
       "      <td>191141000</td>\n",
       "      <td>4564600</td>\n",
       "      <td>364220</td>\n",
       "      <td>4200400</td>\n",
       "      <td>9360</td>\n",
       "      <td>21420</td>\n",
       "      <td>130390</td>\n",
       "      <td>203050</td>\n",
       "      <td>1213200</td>\n",
       "      <td>2514400</td>\n",
       "      <td>472800</td>\n",
       "    </tr>\n",
       "  </tbody>\n",
       "</table>\n",
       "</div>"
      ],
      "text/plain": [
       "   Year  Population    Total  Violent  Property  Murder  Forcible_Rape  \\\n",
       "0  1960   179323175  3384200   288460   3095700    9110          17190   \n",
       "1  1961   182992000  3488000   289390   3198600    8740          17220   \n",
       "2  1962   185771000  3752200   301510   3450700    8530          17550   \n",
       "3  1963   188483000  4109500   316970   3792500    8640          17650   \n",
       "4  1964   191141000  4564600   364220   4200400    9360          21420   \n",
       "\n",
       "   Robbery  Aggravated_assault  Burglary  Larceny_Theft  Vehicle_Theft  \n",
       "0   107840              154320    912100        1855400         328200  \n",
       "1   106670              156760    949600        1913000         336000  \n",
       "2   110860              164570    994300        2089600         366800  \n",
       "3   116470              174210   1086400        2297800         408300  \n",
       "4   130390              203050   1213200        2514400         472800  "
      ]
     },
     "execution_count": 2,
     "metadata": {},
     "output_type": "execute_result"
    }
   ],
   "source": [
    "crime = pd.read_csv('US_Crime_Rates_1960_2014.csv')\n",
    "crime.head()"
   ]
  },
  {
   "cell_type": "markdown",
   "metadata": {},
   "source": [
    "### Show the last 3 rows of the dataFrame"
   ]
  },
  {
   "cell_type": "code",
   "execution_count": 3,
   "metadata": {
    "ExecuteTime": {
     "end_time": "2021-11-01T09:34:46.042242Z",
     "start_time": "2021-11-01T09:34:45.978737Z"
    }
   },
   "outputs": [
    {
     "data": {
      "text/html": [
       "<div>\n",
       "<style scoped>\n",
       "    .dataframe tbody tr th:only-of-type {\n",
       "        vertical-align: middle;\n",
       "    }\n",
       "\n",
       "    .dataframe tbody tr th {\n",
       "        vertical-align: top;\n",
       "    }\n",
       "\n",
       "    .dataframe thead th {\n",
       "        text-align: right;\n",
       "    }\n",
       "</style>\n",
       "<table border=\"1\" class=\"dataframe\">\n",
       "  <thead>\n",
       "    <tr style=\"text-align: right;\">\n",
       "      <th></th>\n",
       "      <th>Year</th>\n",
       "      <th>Population</th>\n",
       "      <th>Total</th>\n",
       "      <th>Violent</th>\n",
       "      <th>Property</th>\n",
       "      <th>Murder</th>\n",
       "      <th>Forcible_Rape</th>\n",
       "      <th>Robbery</th>\n",
       "      <th>Aggravated_assault</th>\n",
       "      <th>Burglary</th>\n",
       "      <th>Larceny_Theft</th>\n",
       "      <th>Vehicle_Theft</th>\n",
       "    </tr>\n",
       "  </thead>\n",
       "  <tbody>\n",
       "    <tr>\n",
       "      <th>52</th>\n",
       "      <td>2012</td>\n",
       "      <td>313873685</td>\n",
       "      <td>10219059</td>\n",
       "      <td>1217067</td>\n",
       "      <td>9001992</td>\n",
       "      <td>14866</td>\n",
       "      <td>85141</td>\n",
       "      <td>355051</td>\n",
       "      <td>762009</td>\n",
       "      <td>2109932</td>\n",
       "      <td>6168874</td>\n",
       "      <td>723186</td>\n",
       "    </tr>\n",
       "    <tr>\n",
       "      <th>53</th>\n",
       "      <td>2013</td>\n",
       "      <td>316497531</td>\n",
       "      <td>9850445</td>\n",
       "      <td>1199684</td>\n",
       "      <td>8650761</td>\n",
       "      <td>14319</td>\n",
       "      <td>82109</td>\n",
       "      <td>345095</td>\n",
       "      <td>726575</td>\n",
       "      <td>1931835</td>\n",
       "      <td>6018632</td>\n",
       "      <td>700294</td>\n",
       "    </tr>\n",
       "    <tr>\n",
       "      <th>54</th>\n",
       "      <td>2014</td>\n",
       "      <td>318857056</td>\n",
       "      <td>9475816</td>\n",
       "      <td>1197987</td>\n",
       "      <td>8277829</td>\n",
       "      <td>14249</td>\n",
       "      <td>84041</td>\n",
       "      <td>325802</td>\n",
       "      <td>741291</td>\n",
       "      <td>1729806</td>\n",
       "      <td>5858496</td>\n",
       "      <td>689527</td>\n",
       "    </tr>\n",
       "  </tbody>\n",
       "</table>\n",
       "</div>"
      ],
      "text/plain": [
       "    Year  Population     Total  Violent  Property  Murder  Forcible_Rape  \\\n",
       "52  2012   313873685  10219059  1217067   9001992   14866          85141   \n",
       "53  2013   316497531   9850445  1199684   8650761   14319          82109   \n",
       "54  2014   318857056   9475816  1197987   8277829   14249          84041   \n",
       "\n",
       "    Robbery  Aggravated_assault  Burglary  Larceny_Theft  Vehicle_Theft  \n",
       "52   355051              762009   2109932        6168874         723186  \n",
       "53   345095              726575   1931835        6018632         700294  \n",
       "54   325802              741291   1729806        5858496         689527  "
      ]
     },
     "execution_count": 3,
     "metadata": {},
     "output_type": "execute_result"
    }
   ],
   "source": [
    "crime.tail(3)"
   ]
  },
  {
   "cell_type": "markdown",
   "metadata": {},
   "source": [
    "### Step 3. Set the 'Year' column as index"
   ]
  },
  {
   "cell_type": "code",
   "execution_count": 4,
   "metadata": {
    "ExecuteTime": {
     "end_time": "2021-10-28T08:06:27.829487Z",
     "start_time": "2021-10-28T08:06:27.824953Z"
    }
   },
   "outputs": [
    {
     "data": {
      "text/html": [
       "<div>\n",
       "<style scoped>\n",
       "    .dataframe tbody tr th:only-of-type {\n",
       "        vertical-align: middle;\n",
       "    }\n",
       "\n",
       "    .dataframe tbody tr th {\n",
       "        vertical-align: top;\n",
       "    }\n",
       "\n",
       "    .dataframe thead th {\n",
       "        text-align: right;\n",
       "    }\n",
       "</style>\n",
       "<table border=\"1\" class=\"dataframe\">\n",
       "  <thead>\n",
       "    <tr style=\"text-align: right;\">\n",
       "      <th></th>\n",
       "      <th>Population</th>\n",
       "      <th>Total</th>\n",
       "      <th>Violent</th>\n",
       "      <th>Property</th>\n",
       "      <th>Murder</th>\n",
       "      <th>Forcible_Rape</th>\n",
       "      <th>Robbery</th>\n",
       "      <th>Aggravated_assault</th>\n",
       "      <th>Burglary</th>\n",
       "      <th>Larceny_Theft</th>\n",
       "      <th>Vehicle_Theft</th>\n",
       "    </tr>\n",
       "    <tr>\n",
       "      <th>Year</th>\n",
       "      <th></th>\n",
       "      <th></th>\n",
       "      <th></th>\n",
       "      <th></th>\n",
       "      <th></th>\n",
       "      <th></th>\n",
       "      <th></th>\n",
       "      <th></th>\n",
       "      <th></th>\n",
       "      <th></th>\n",
       "      <th></th>\n",
       "    </tr>\n",
       "  </thead>\n",
       "  <tbody>\n",
       "    <tr>\n",
       "      <th>1960</th>\n",
       "      <td>179323175</td>\n",
       "      <td>3384200</td>\n",
       "      <td>288460</td>\n",
       "      <td>3095700</td>\n",
       "      <td>9110</td>\n",
       "      <td>17190</td>\n",
       "      <td>107840</td>\n",
       "      <td>154320</td>\n",
       "      <td>912100</td>\n",
       "      <td>1855400</td>\n",
       "      <td>328200</td>\n",
       "    </tr>\n",
       "    <tr>\n",
       "      <th>1961</th>\n",
       "      <td>182992000</td>\n",
       "      <td>3488000</td>\n",
       "      <td>289390</td>\n",
       "      <td>3198600</td>\n",
       "      <td>8740</td>\n",
       "      <td>17220</td>\n",
       "      <td>106670</td>\n",
       "      <td>156760</td>\n",
       "      <td>949600</td>\n",
       "      <td>1913000</td>\n",
       "      <td>336000</td>\n",
       "    </tr>\n",
       "    <tr>\n",
       "      <th>1962</th>\n",
       "      <td>185771000</td>\n",
       "      <td>3752200</td>\n",
       "      <td>301510</td>\n",
       "      <td>3450700</td>\n",
       "      <td>8530</td>\n",
       "      <td>17550</td>\n",
       "      <td>110860</td>\n",
       "      <td>164570</td>\n",
       "      <td>994300</td>\n",
       "      <td>2089600</td>\n",
       "      <td>366800</td>\n",
       "    </tr>\n",
       "    <tr>\n",
       "      <th>1963</th>\n",
       "      <td>188483000</td>\n",
       "      <td>4109500</td>\n",
       "      <td>316970</td>\n",
       "      <td>3792500</td>\n",
       "      <td>8640</td>\n",
       "      <td>17650</td>\n",
       "      <td>116470</td>\n",
       "      <td>174210</td>\n",
       "      <td>1086400</td>\n",
       "      <td>2297800</td>\n",
       "      <td>408300</td>\n",
       "    </tr>\n",
       "    <tr>\n",
       "      <th>1964</th>\n",
       "      <td>191141000</td>\n",
       "      <td>4564600</td>\n",
       "      <td>364220</td>\n",
       "      <td>4200400</td>\n",
       "      <td>9360</td>\n",
       "      <td>21420</td>\n",
       "      <td>130390</td>\n",
       "      <td>203050</td>\n",
       "      <td>1213200</td>\n",
       "      <td>2514400</td>\n",
       "      <td>472800</td>\n",
       "    </tr>\n",
       "  </tbody>\n",
       "</table>\n",
       "</div>"
      ],
      "text/plain": [
       "      Population    Total  Violent  Property  Murder  Forcible_Rape  Robbery  \\\n",
       "Year                                                                           \n",
       "1960   179323175  3384200   288460   3095700    9110          17190   107840   \n",
       "1961   182992000  3488000   289390   3198600    8740          17220   106670   \n",
       "1962   185771000  3752200   301510   3450700    8530          17550   110860   \n",
       "1963   188483000  4109500   316970   3792500    8640          17650   116470   \n",
       "1964   191141000  4564600   364220   4200400    9360          21420   130390   \n",
       "\n",
       "      Aggravated_assault  Burglary  Larceny_Theft  Vehicle_Theft  \n",
       "Year                                                              \n",
       "1960              154320    912100        1855400         328200  \n",
       "1961              156760    949600        1913000         336000  \n",
       "1962              164570    994300        2089600         366800  \n",
       "1963              174210   1086400        2297800         408300  \n",
       "1964              203050   1213200        2514400         472800  "
      ]
     },
     "execution_count": 4,
     "metadata": {},
     "output_type": "execute_result"
    }
   ],
   "source": [
    "crime = crime.set_index('Year')\n",
    "crime.head()"
   ]
  },
  {
   "cell_type": "markdown",
   "metadata": {},
   "source": [
    "### Step 4. See the first 6 entries, 'Population' and 'Violent' columns only"
   ]
  },
  {
   "cell_type": "code",
   "execution_count": 5,
   "metadata": {
    "ExecuteTime": {
     "end_time": "2021-10-28T08:08:36.425442Z",
     "start_time": "2021-10-28T08:08:36.411430Z"
    },
    "scrolled": true
   },
   "outputs": [
    {
     "data": {
      "text/html": [
       "<div>\n",
       "<style scoped>\n",
       "    .dataframe tbody tr th:only-of-type {\n",
       "        vertical-align: middle;\n",
       "    }\n",
       "\n",
       "    .dataframe tbody tr th {\n",
       "        vertical-align: top;\n",
       "    }\n",
       "\n",
       "    .dataframe thead th {\n",
       "        text-align: right;\n",
       "    }\n",
       "</style>\n",
       "<table border=\"1\" class=\"dataframe\">\n",
       "  <thead>\n",
       "    <tr style=\"text-align: right;\">\n",
       "      <th></th>\n",
       "      <th>Population</th>\n",
       "      <th>Violent</th>\n",
       "    </tr>\n",
       "    <tr>\n",
       "      <th>Year</th>\n",
       "      <th></th>\n",
       "      <th></th>\n",
       "    </tr>\n",
       "  </thead>\n",
       "  <tbody>\n",
       "    <tr>\n",
       "      <th>1960</th>\n",
       "      <td>179323175</td>\n",
       "      <td>288460</td>\n",
       "    </tr>\n",
       "    <tr>\n",
       "      <th>1961</th>\n",
       "      <td>182992000</td>\n",
       "      <td>289390</td>\n",
       "    </tr>\n",
       "    <tr>\n",
       "      <th>1962</th>\n",
       "      <td>185771000</td>\n",
       "      <td>301510</td>\n",
       "    </tr>\n",
       "    <tr>\n",
       "      <th>1963</th>\n",
       "      <td>188483000</td>\n",
       "      <td>316970</td>\n",
       "    </tr>\n",
       "    <tr>\n",
       "      <th>1964</th>\n",
       "      <td>191141000</td>\n",
       "      <td>364220</td>\n",
       "    </tr>\n",
       "    <tr>\n",
       "      <th>1965</th>\n",
       "      <td>193526000</td>\n",
       "      <td>387390</td>\n",
       "    </tr>\n",
       "  </tbody>\n",
       "</table>\n",
       "</div>"
      ],
      "text/plain": [
       "      Population  Violent\n",
       "Year                     \n",
       "1960   179323175   288460\n",
       "1961   182992000   289390\n",
       "1962   185771000   301510\n",
       "1963   188483000   316970\n",
       "1964   191141000   364220\n",
       "1965   193526000   387390"
      ]
     },
     "execution_count": 5,
     "metadata": {},
     "output_type": "execute_result"
    }
   ],
   "source": [
    "crime.loc['1960':'1965', ['Population', 'Violent']]"
   ]
  },
  {
   "cell_type": "markdown",
   "metadata": {},
   "source": [
    "### Step 6. What is the number of observations in the dataset?"
   ]
  },
  {
   "cell_type": "code",
   "execution_count": 6,
   "metadata": {
    "ExecuteTime": {
     "end_time": "2021-10-28T10:24:39.501933Z",
     "start_time": "2021-10-28T10:24:39.496643Z"
    }
   },
   "outputs": [
    {
     "data": {
      "text/plain": [
       "55"
      ]
     },
     "execution_count": 6,
     "metadata": {},
     "output_type": "execute_result"
    }
   ],
   "source": [
    "len(crime.index)"
   ]
  },
  {
   "cell_type": "markdown",
   "metadata": {},
   "source": [
    "### Step 7. What is the number of columns in the dataset?"
   ]
  },
  {
   "cell_type": "code",
   "execution_count": 7,
   "metadata": {},
   "outputs": [
    {
     "data": {
      "text/plain": [
       "11"
      ]
     },
     "execution_count": 7,
     "metadata": {},
     "output_type": "execute_result"
    }
   ],
   "source": [
    "len(crime.columns)"
   ]
  },
  {
   "cell_type": "markdown",
   "metadata": {},
   "source": [
    "### Step 8. Print the name of all the columns."
   ]
  },
  {
   "cell_type": "code",
   "execution_count": 8,
   "metadata": {},
   "outputs": [
    {
     "data": {
      "text/plain": [
       "Index(['Population', 'Total', 'Violent', 'Property', 'Murder', 'Forcible_Rape',\n",
       "       'Robbery', 'Aggravated_assault', 'Burglary', 'Larceny_Theft',\n",
       "       'Vehicle_Theft'],\n",
       "      dtype='object')"
      ]
     },
     "execution_count": 8,
     "metadata": {},
     "output_type": "execute_result"
    }
   ],
   "source": [
    "crime.columns"
   ]
  },
  {
   "cell_type": "markdown",
   "metadata": {},
   "source": [
    "### Step 9. What is the data type of each column?"
   ]
  },
  {
   "cell_type": "code",
   "execution_count": 9,
   "metadata": {},
   "outputs": [
    {
     "data": {
      "text/plain": [
       "Population            int64\n",
       "Total                 int64\n",
       "Violent               int64\n",
       "Property              int64\n",
       "Murder                int64\n",
       "Forcible_Rape         int64\n",
       "Robbery               int64\n",
       "Aggravated_assault    int64\n",
       "Burglary              int64\n",
       "Larceny_Theft         int64\n",
       "Vehicle_Theft         int64\n",
       "dtype: object"
      ]
     },
     "execution_count": 9,
     "metadata": {},
     "output_type": "execute_result"
    }
   ],
   "source": [
    "crime.dtypes\n"
   ]
  },
  {
   "cell_type": "markdown",
   "metadata": {},
   "source": [
    "### Step 10. Summarize the DataFrame."
   ]
  },
  {
   "cell_type": "code",
   "execution_count": 10,
   "metadata": {},
   "outputs": [
    {
     "data": {
      "text/html": [
       "<div>\n",
       "<style scoped>\n",
       "    .dataframe tbody tr th:only-of-type {\n",
       "        vertical-align: middle;\n",
       "    }\n",
       "\n",
       "    .dataframe tbody tr th {\n",
       "        vertical-align: top;\n",
       "    }\n",
       "\n",
       "    .dataframe thead th {\n",
       "        text-align: right;\n",
       "    }\n",
       "</style>\n",
       "<table border=\"1\" class=\"dataframe\">\n",
       "  <thead>\n",
       "    <tr style=\"text-align: right;\">\n",
       "      <th></th>\n",
       "      <th>Population</th>\n",
       "      <th>Total</th>\n",
       "      <th>Violent</th>\n",
       "      <th>Property</th>\n",
       "      <th>Murder</th>\n",
       "      <th>Forcible_Rape</th>\n",
       "      <th>Robbery</th>\n",
       "      <th>Aggravated_assault</th>\n",
       "      <th>Burglary</th>\n",
       "      <th>Larceny_Theft</th>\n",
       "      <th>Vehicle_Theft</th>\n",
       "    </tr>\n",
       "  </thead>\n",
       "  <tbody>\n",
       "    <tr>\n",
       "      <th>count</th>\n",
       "      <td>5.500000e+01</td>\n",
       "      <td>5.500000e+01</td>\n",
       "      <td>5.500000e+01</td>\n",
       "      <td>5.500000e+01</td>\n",
       "      <td>55.000000</td>\n",
       "      <td>55.000000</td>\n",
       "      <td>55.000000</td>\n",
       "      <td>5.500000e+01</td>\n",
       "      <td>5.500000e+01</td>\n",
       "      <td>5.500000e+01</td>\n",
       "      <td>5.500000e+01</td>\n",
       "    </tr>\n",
       "    <tr>\n",
       "      <th>mean</th>\n",
       "      <td>2.461556e+08</td>\n",
       "      <td>1.060315e+07</td>\n",
       "      <td>1.188806e+06</td>\n",
       "      <td>9.412499e+06</td>\n",
       "      <td>17317.236364</td>\n",
       "      <td>72714.800000</td>\n",
       "      <td>416449.890909</td>\n",
       "      <td>6.811818e+05</td>\n",
       "      <td>2.424017e+06</td>\n",
       "      <td>5.959947e+06</td>\n",
       "      <td>1.028614e+06</td>\n",
       "    </tr>\n",
       "    <tr>\n",
       "      <th>std</th>\n",
       "      <td>4.166216e+07</td>\n",
       "      <td>3.175931e+06</td>\n",
       "      <td>4.597107e+05</td>\n",
       "      <td>2.738512e+06</td>\n",
       "      <td>4267.442664</td>\n",
       "      <td>28278.006893</td>\n",
       "      <td>150506.403782</td>\n",
       "      <td>2.960255e+05</td>\n",
       "      <td>7.259004e+05</td>\n",
       "      <td>1.846401e+06</td>\n",
       "      <td>3.455693e+05</td>\n",
       "    </tr>\n",
       "    <tr>\n",
       "      <th>min</th>\n",
       "      <td>1.793232e+08</td>\n",
       "      <td>3.384200e+06</td>\n",
       "      <td>2.884600e+05</td>\n",
       "      <td>3.095700e+06</td>\n",
       "      <td>8530.000000</td>\n",
       "      <td>17190.000000</td>\n",
       "      <td>106670.000000</td>\n",
       "      <td>1.543200e+05</td>\n",
       "      <td>9.121000e+05</td>\n",
       "      <td>1.855400e+06</td>\n",
       "      <td>3.282000e+05</td>\n",
       "    </tr>\n",
       "    <tr>\n",
       "      <th>25%</th>\n",
       "      <td>2.106215e+08</td>\n",
       "      <td>9.096958e+06</td>\n",
       "      <td>9.253150e+05</td>\n",
       "      <td>8.060014e+06</td>\n",
       "      <td>14819.000000</td>\n",
       "      <td>53400.000000</td>\n",
       "      <td>354911.500000</td>\n",
       "      <td>4.384300e+05</td>\n",
       "      <td>2.105336e+06</td>\n",
       "      <td>4.843350e+06</td>\n",
       "      <td>7.896260e+05</td>\n",
       "    </tr>\n",
       "    <tr>\n",
       "      <th>50%</th>\n",
       "      <td>2.422829e+08</td>\n",
       "      <td>1.140151e+07</td>\n",
       "      <td>1.322390e+06</td>\n",
       "      <td>1.018259e+07</td>\n",
       "      <td>17030.000000</td>\n",
       "      <td>84230.000000</td>\n",
       "      <td>423557.000000</td>\n",
       "      <td>7.412910e+05</td>\n",
       "      <td>2.329950e+06</td>\n",
       "      <td>6.591900e+06</td>\n",
       "      <td>1.032200e+06</td>\n",
       "    </tr>\n",
       "    <tr>\n",
       "      <th>75%</th>\n",
       "      <td>2.833697e+08</td>\n",
       "      <td>1.308449e+07</td>\n",
       "      <td>1.432762e+06</td>\n",
       "      <td>1.160509e+07</td>\n",
       "      <td>20561.500000</td>\n",
       "      <td>92930.000000</td>\n",
       "      <td>512137.000000</td>\n",
       "      <td>9.002150e+05</td>\n",
       "      <td>3.073600e+06</td>\n",
       "      <td>7.168450e+06</td>\n",
       "      <td>1.239302e+06</td>\n",
       "    </tr>\n",
       "    <tr>\n",
       "      <th>max</th>\n",
       "      <td>3.188571e+08</td>\n",
       "      <td>1.487290e+07</td>\n",
       "      <td>1.932270e+06</td>\n",
       "      <td>1.296110e+07</td>\n",
       "      <td>24700.000000</td>\n",
       "      <td>109060.000000</td>\n",
       "      <td>687730.000000</td>\n",
       "      <td>1.135610e+06</td>\n",
       "      <td>3.795200e+06</td>\n",
       "      <td>8.142200e+06</td>\n",
       "      <td>1.661700e+06</td>\n",
       "    </tr>\n",
       "  </tbody>\n",
       "</table>\n",
       "</div>"
      ],
      "text/plain": [
       "         Population         Total       Violent      Property        Murder  \\\n",
       "count  5.500000e+01  5.500000e+01  5.500000e+01  5.500000e+01     55.000000   \n",
       "mean   2.461556e+08  1.060315e+07  1.188806e+06  9.412499e+06  17317.236364   \n",
       "std    4.166216e+07  3.175931e+06  4.597107e+05  2.738512e+06   4267.442664   \n",
       "min    1.793232e+08  3.384200e+06  2.884600e+05  3.095700e+06   8530.000000   \n",
       "25%    2.106215e+08  9.096958e+06  9.253150e+05  8.060014e+06  14819.000000   \n",
       "50%    2.422829e+08  1.140151e+07  1.322390e+06  1.018259e+07  17030.000000   \n",
       "75%    2.833697e+08  1.308449e+07  1.432762e+06  1.160509e+07  20561.500000   \n",
       "max    3.188571e+08  1.487290e+07  1.932270e+06  1.296110e+07  24700.000000   \n",
       "\n",
       "       Forcible_Rape        Robbery  Aggravated_assault      Burglary  \\\n",
       "count      55.000000      55.000000        5.500000e+01  5.500000e+01   \n",
       "mean    72714.800000  416449.890909        6.811818e+05  2.424017e+06   \n",
       "std     28278.006893  150506.403782        2.960255e+05  7.259004e+05   \n",
       "min     17190.000000  106670.000000        1.543200e+05  9.121000e+05   \n",
       "25%     53400.000000  354911.500000        4.384300e+05  2.105336e+06   \n",
       "50%     84230.000000  423557.000000        7.412910e+05  2.329950e+06   \n",
       "75%     92930.000000  512137.000000        9.002150e+05  3.073600e+06   \n",
       "max    109060.000000  687730.000000        1.135610e+06  3.795200e+06   \n",
       "\n",
       "       Larceny_Theft  Vehicle_Theft  \n",
       "count   5.500000e+01   5.500000e+01  \n",
       "mean    5.959947e+06   1.028614e+06  \n",
       "std     1.846401e+06   3.455693e+05  \n",
       "min     1.855400e+06   3.282000e+05  \n",
       "25%     4.843350e+06   7.896260e+05  \n",
       "50%     6.591900e+06   1.032200e+06  \n",
       "75%     7.168450e+06   1.239302e+06  \n",
       "max     8.142200e+06   1.661700e+06  "
      ]
     },
     "execution_count": 10,
     "metadata": {},
     "output_type": "execute_result"
    }
   ],
   "source": [
    "crime.describe()"
   ]
  },
  {
   "cell_type": "markdown",
   "metadata": {},
   "source": [
    "### Step 11. What is the average population was in US in 1960s (1960-1969)?"
   ]
  },
  {
   "cell_type": "code",
   "execution_count": 11,
   "metadata": {},
   "outputs": [
    {
     "data": {
      "text/plain": [
       "191505317.5"
      ]
     },
     "execution_count": 11,
     "metadata": {},
     "output_type": "execute_result"
    }
   ],
   "source": [
    "crime1 = crime.loc['1960':'1969', :]\n",
    "crime1['Population'].mean()"
   ]
  },
  {
   "cell_type": "markdown",
   "metadata": {},
   "source": [
    "### Step 12. What was the most frequent type of crime in 2014?"
   ]
  },
  {
   "cell_type": "code",
   "execution_count": 12,
   "metadata": {},
   "outputs": [
    {
     "data": {
      "text/plain": [
       "'Property'"
      ]
     },
     "execution_count": 12,
     "metadata": {},
     "output_type": "execute_result"
    }
   ],
   "source": [
    "crime2 = pd.read_csv('US_Crime_Rates_1960_2014.csv')\n",
    "data = crime2[crime2['Year']==2014]\n",
    "crime_type = data.iloc[:, 3:]\n",
    "most_fr = crime_type.idxmax(axis=1)\n",
    "most_fr_type = most_fr.value_counts().idxmax()\n",
    "most_fr_type"
   ]
  },
  {
   "cell_type": "markdown",
   "metadata": {},
   "source": [
    "### Step 13. What was the number of Robbery crimes between 2000 and 2014, including both?"
   ]
  },
  {
   "cell_type": "code",
   "execution_count": 13,
   "metadata": {},
   "outputs": [
    {
     "data": {
      "text/plain": [
       "5980175"
      ]
     },
     "execution_count": 13,
     "metadata": {},
     "output_type": "execute_result"
    }
   ],
   "source": [
    "num = crime.loc['2000':'2014', 'Robbery']\n",
    "num.sum()"
   ]
  },
  {
   "cell_type": "markdown",
   "metadata": {},
   "source": [
    "### Step 14. What % of population was killed in Murder crimes in 2000?"
   ]
  },
  {
   "cell_type": "code",
   "execution_count": 14,
   "metadata": {},
   "outputs": [
    {
     "data": {
      "text/plain": [
       "0.0055"
      ]
     },
     "execution_count": 14,
     "metadata": {},
     "output_type": "execute_result"
    }
   ],
   "source": [
    "perc = crime.iloc[40]\n",
    "m = perc['Murder'].sum()\n",
    "popul = p['Population']\n",
    "proc = round(m*100/popul , 4)\n",
    "proc"
   ]
  },
  {
   "cell_type": "markdown",
   "metadata": {},
   "source": [
    "### Step 15. By what percentage with respect to Population did crime increase in 2014 compared to 1960?"
   ]
  },
  {
   "cell_type": "code",
   "execution_count": 15,
   "metadata": {},
   "outputs": [
    {
     "data": {
      "text/plain": [
       "1.08"
      ]
     },
     "execution_count": 15,
     "metadata": {},
     "output_type": "execute_result"
    }
   ],
   "source": [
    "data1960 = crime2[crime2['Year']==1960]\n",
    "total_crime_1960 = data1960['Total'].values[0]\n",
    "total_crime_2014 = data['Total'].values[0]\n",
    "population_1960 = data1960['Population'].values[0]\n",
    "population_2014 = data['Population'].values[0]\n",
    "per1960 = total_crime_1960*100/population_1960\n",
    "per2014 = total_crime_2014*100/population_2014\n",
    "per = round(per2014 -per1960, 2)\n",
    "per"
   ]
  },
  {
   "cell_type": "markdown",
   "metadata": {},
   "source": [
    "### Step 16. What types of crime affected more than 1% of population in 2010? (suppose each crime occurs only once for each person)"
   ]
  },
  {
   "cell_type": "code",
   "execution_count": 21,
   "metadata": {},
   "outputs": [
    {
     "data": {
      "text/plain": [
       "['Property', 'Larceny_Theft']"
      ]
     },
     "execution_count": 21,
     "metadata": {},
     "output_type": "execute_result"
    }
   ],
   "source": [
    "data2010 = crime2[crime2['Year'] == 2010]\n",
    "crime_columns = [ 'Violent', 'Property', 'Murder', 'Forcible_Rape',\n",
    "       'Robbery', 'Aggravated_assault', 'Burglary', 'Larceny_Theft',\n",
    "       'Vehicle_Theft']\n",
    "crime_percentages = {}\n",
    "\n",
    "for column in crime_columns:\n",
    "    crime_percentage = (data2010[column].values[0] / data2010['Population'].values[0]) * 100\n",
    "    crime_percentages[column] = crime_percentage\n",
    "\n",
    "more_than_1_per = [ctype for ctype, percentage in crime_percentages.items() if percentage > 1]\n",
    "        \n",
    "more_than_1_per"
   ]
  },
  {
   "cell_type": "markdown",
   "metadata": {},
   "source": [
    "### Step 17. In which year the Violent crime rate (as % of Total) was the lowest?"
   ]
  },
  {
   "cell_type": "code",
   "execution_count": 16,
   "metadata": {},
   "outputs": [
    {
     "data": {
      "text/plain": [
       "1963"
      ]
     },
     "execution_count": 16,
     "metadata": {},
     "output_type": "execute_result"
    }
   ],
   "source": [
    "crime2['Violent_crime_rate'] = (crime2['Violent'] / crime2['Total']) * 100\n",
    "year_lowest = crime2[crime2['Violent_crime_rate'] == crime2['Violent_crime_rate'].min()]['Year'].values[0]\n",
    "year_lowest"
   ]
  },
  {
   "cell_type": "markdown",
   "metadata": {},
   "source": [
    "### Step 18. In which year the forcible rape crime rate (as % of Pupolation) was the highest?"
   ]
  },
  {
   "cell_type": "code",
   "execution_count": 17,
   "metadata": {},
   "outputs": [
    {
     "data": {
      "text/plain": [
       "1992"
      ]
     },
     "execution_count": 17,
     "metadata": {},
     "output_type": "execute_result"
    }
   ],
   "source": [
    "crime2['forcible_rape_crime_rate'] = (crime2['Forcible_Rape'] / crime2['Population']) * 100\n",
    "year_highest = crime2[crime2['forcible_rape_crime_rate'] == crime2['forcible_rape_crime_rate'].max()]['Year'].values[0]\n",
    "year_highest"
   ]
  },
  {
   "cell_type": "markdown",
   "metadata": {},
   "source": [
    "### Step 19-20. Come up with 2 questions of your own that you would like to analyze"
   ]
  },
  {
   "cell_type": "markdown",
   "metadata": {},
   "source": [
    "### Step 19. In which year the Total crime rate was the biggest?"
   ]
  },
  {
   "cell_type": "code",
   "execution_count": 34,
   "metadata": {},
   "outputs": [
    {
     "data": {
      "text/plain": [
       "1991"
      ]
     },
     "execution_count": 34,
     "metadata": {},
     "output_type": "execute_result"
    }
   ],
   "source": [
    "year_most = crime2[crime2['Total'] == crime2['Total'].max()]['Year'].values[0]\n",
    "year_most"
   ]
  },
  {
   "cell_type": "markdown",
   "metadata": {},
   "source": [
    "### Step 20. Visualization "
   ]
  },
  {
   "cell_type": "code",
   "execution_count": 22,
   "metadata": {},
   "outputs": [],
   "source": [
    "import matplotlib.pyplot as plt"
   ]
  },
  {
   "cell_type": "code",
   "execution_count": 33,
   "metadata": {},
   "outputs": [
    {
     "data": {
      "image/png": "[encoded data removed]",
      "text/plain": [
       "<Figure size 640x480 with 1 Axes>"
      ]
     },
     "metadata": {},
     "output_type": "display_data"
    }
   ],
   "source": [
    "data_for_bar = crime2.loc[:,['Year', 'Population','Total']]\n",
    "data_for_bar['Percent'] = (crime2['Total'] / crime2['Population']) * 100\n",
    "\n",
    "plt.bar(data_for_bar['Year'], data_for_bar['Percent'])\n",
    "plt.xlabel('Year')\n",
    "plt.ylabel('Percent')\n",
    "plt.title('Crime as % of population by Year')\n",
    "plt.show()"
   ]
  }
 ],
 "metadata": {
  "anaconda-cloud": {},
  "kernelspec": {
   "display_name": "Python 3 (ipykernel)",
   "language": "python",
   "name": "python3"
  },
  "language_info": {
   "codemirror_mode": {
    "name": "ipython",
    "version": 3
   },
   "file_extension": ".py",
   "mimetype": "text/x-python",
   "name": "python",
   "nbconvert_exporter": "python",
   "pygments_lexer": "ipython3",
   "version": "3.10.9"
  },
  "toc": {
   "base_numbering": 1,
   "nav_menu": {},
   "number_sections": true,
   "sideBar": true,
   "skip_h1_title": true,
   "title_cell": "Table of Contents",
   "title_sidebar": "Contents",
   "toc_cell": true,
   "toc_position": {},
   "toc_section_display": true,
   "toc_window_display": true
  },
  "varInspector": {
   "cols": {
    "lenName": 16,
    "lenType": 16,
    "lenVar": 40
   },
   "kernels_config": {
    "python": {
     "delete_cmd_postfix": "",
     "delete_cmd_prefix": "del ",
     "library": "var_list.py",
     "varRefreshCmd": "print(var_dic_list())"
    },
    "r": {
     "delete_cmd_postfix": ") ",
     "delete_cmd_prefix": "rm(",
     "library": "var_list.r",
     "varRefreshCmd": "cat(var_dic_list()) "
    }
   },
   "types_to_exclude": [
    "module",
    "function",
    "builtin_function_or_method",
    "instance",
    "_Feature"
   ],
   "window_display": false
  }
 },
 "nbformat": 4,
 "nbformat_minor": 1
}
