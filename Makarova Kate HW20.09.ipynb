{
 "cells": [
  {
   "cell_type": "code",
   "execution_count": 1,
   "id": "333c785f",
   "metadata": {},
   "outputs": [
    {
     "name": "stdout",
     "output_type": "stream",
     "text": [
      "sys.version_info(major=3, minor=10, micro=9, releaselevel='final', serial=0)\n",
      "version 3.10.9\n"
     ]
    }
   ],
   "source": [
    "import sys\n",
    "vv = sys.version_info\n",
    "print(vv)\n",
    "print('version ' + '.'.join([str(x) for x in vv[0:3]]))"
   ]
  },
  {
   "cell_type": "markdown",
   "id": "f77887f3",
   "metadata": {},
   "source": [
    "### Question 4\n",
    "Write a Python program which accepts the radius of a circle from the user and compute the area.\n",
    "\n",
    "### Answer"
   ]
  },
  {
   "cell_type": "code",
   "execution_count": 3,
   "id": "5ace4c09",
   "metadata": {},
   "outputs": [
    {
     "name": "stdout",
     "output_type": "stream",
     "text": [
      "Enter radius: 5\n",
      "Area = 157.08\n"
     ]
    }
   ],
   "source": [
    "from math import pi\n",
    "def area():\n",
    "    '''Function acccepts the radius of a circle from the user and compute the area'''\n",
    "    radius = float(input('Enter radius: '))\n",
    "    if radius > 0:\n",
    "        ar = round(2*pi*radius**2,2)\n",
    "        print(f\"Area = {ar}\")\n",
    "    else:\n",
    "        print(\"Radius must be more than 0\")\n",
    "\n",
    "area()"
   ]
  },
  {
   "cell_type": "markdown",
   "id": "b4797910",
   "metadata": {},
   "source": [
    "### Question 8\n",
    "Write a program that asks the user to enter three numbers: the day of birth, the month of birth and the year of birth (use three separate input statements). Print out the total number of days from birth.\n",
    "\n",
    "### Answer¶"
   ]
  },
  {
   "cell_type": "code",
   "execution_count": 4,
   "id": "10f58f4d",
   "metadata": {},
   "outputs": [
    {
     "name": "stdout",
     "output_type": "stream",
     "text": [
      "Enter your day of birth(1-31): 27\n",
      "Enter your mounth of birth(1-12):9\n",
      "Enter your year of birth:(e.g., 2023)2022\n"
     ]
    },
    {
     "data": {
      "text/plain": [
       "'Day from your birth: 365'"
      ]
     },
     "execution_count": 4,
     "metadata": {},
     "output_type": "execute_result"
    }
   ],
   "source": [
    "import datetime\n",
    "\n",
    "now = datetime.datetime.now()\n",
    "\n",
    "def  total_day():\n",
    "    '''Function asks the user 3 numbers: the day of birth, the month of birth and the year of birth.\n",
    "       And return how much days have passed from birth'''\n",
    "    day = int(input('Enter your day of birth(1-31): '))\n",
    "    month = int(input('Enter your mounth of birth(1-12):'))\n",
    "    year = int(input('Enter your year of birth:(e.g., 2023)'))\n",
    "    \n",
    "    birth = datetime.datetime(year,month,day) #Create a datetime object for the birthdate\n",
    "    diff = (now - birth).days\n",
    "    return f'Day from your birth: {diff}'\n",
    "\n",
    "\n",
    "total_day()"
   ]
  },
  {
   "cell_type": "markdown",
   "id": "8da7c24c",
   "metadata": {},
   "source": [
    "### Question 12\n",
    "Write a program that asks the user how many credits they have taken. If they have taken 23 or less, print that the student is a freshman. If they have taken between 24 and 53, print that they are a sophomore. The range for juniors is 54 to 83, and for seniors it is 84 and over.\n",
    "\n",
    "### Answer"
   ]
  },
  {
   "cell_type": "code",
   "execution_count": 6,
   "id": "18093a51",
   "metadata": {},
   "outputs": [
    {
     "name": "stdout",
     "output_type": "stream",
     "text": [
      "Enter you credits: 86\n",
      "You are seniors.\n"
     ]
    }
   ],
   "source": [
    "def credits():\n",
    "    '''you input how many credits you take and program tell you which category are you'''\n",
    "    n = int(input('Enter you credits: '))\n",
    "    if 1 <=n <= 23:\n",
    "        print('You are freshman.')\n",
    "    elif 24<= n <= 23:\n",
    "        print('You are sophomore.')\n",
    "    elif 54 <= n <= 83:\n",
    "        print('You are junior.')\n",
    "    elif n >= 84:\n",
    "        print('You are seniors.')\n",
    "    else:\n",
    "        print('some problem {n} < 1 !!!!')\n",
    "\n",
    "credits()"
   ]
  },
  {
   "cell_type": "markdown",
   "id": "162aaf84",
   "metadata": {},
   "source": [
    "### Question 16\n",
    "John has 300 at the start, he saves 100 per month, and 500 every 6 months. Write a function returning his savings after N months. (N is an input from the user)\n",
    "\n",
    "### Answer\n"
   ]
  },
  {
   "cell_type": "code",
   "execution_count": 7,
   "id": "cfc1bb53",
   "metadata": {},
   "outputs": [
    {
     "name": "stdout",
     "output_type": "stream",
     "text": [
      "Enter a month:6\n"
     ]
    },
    {
     "data": {
      "text/plain": [
       "1400"
      ]
     },
     "execution_count": 7,
     "metadata": {},
     "output_type": "execute_result"
    }
   ],
   "source": [
    "def save():\n",
    "    '''Function return John savings after n month'''\n",
    "    n = int(input('Enter a month:'))\n",
    "    savings = 300 \n",
    "    for i in range(1,n+1):\n",
    "        savings += 100\n",
    "        if i % 6 == 0:\n",
    "            savings += 500\n",
    "        else:\n",
    "            savings += 0\n",
    "    return savings\n",
    "        \n",
    "save()"
   ]
  },
  {
   "cell_type": "markdown",
   "id": "725a77c6",
   "metadata": {},
   "source": [
    "### Question 20\n",
    "Write a function that removes empty strings from the list of strings.\n",
    "\n",
    "### Answer"
   ]
  },
  {
   "cell_type": "code",
   "execution_count": 8,
   "id": "f0395e94",
   "metadata": {},
   "outputs": [
    {
     "data": {
      "text/plain": [
       "['ffgd', 'fsgdd', '7fgb']"
      ]
     },
     "execution_count": 8,
     "metadata": {},
     "output_type": "execute_result"
    }
   ],
   "source": [
    "def remove_empty(lst):\n",
    "    '''Removes empty strings from list of strings'''\n",
    "    return [string for string in lst if string.strip() != \"\"]\n",
    "\n",
    "lst1 = ['ffgd', '', 'fsgdd', '7fgb', '']\n",
    "remove_empty(lst1)"
   ]
  },
  {
   "cell_type": "markdown",
   "id": "b61b5374",
   "metadata": {},
   "source": [
    "### Question 24\n",
    "A simple way of encrypting a message is to rearrange its characters. One way to rearrange the characters is to pick out the characters at even indices, put them first in the encrypted string, and follow them by the odd characters. For example, the string message would be encrypted as msaeesg because the even characters are m, s, a, e (at indices 0, 2, 4, and 6) and the odd characters are e, s, g (at indices 1, 3, and 5).\n",
    "   \n",
    "   1.Write a function that asks the user for a string and uses this method to encrypt the string.\n",
    "   \n",
    "   2.Write a function that decrypts a string that was encrypted with this method.\n",
    "\n",
    "### Answer\n"
   ]
  },
  {
   "cell_type": "code",
   "execution_count": 13,
   "id": "7a5175a5",
   "metadata": {},
   "outputs": [
    {
     "name": "stdout",
     "output_type": "stream",
     "text": [
      "Enter word: mess\n",
      "Encrypted : mses\n",
      "Dercypt: mess\n"
     ]
    }
   ],
   "source": [
    "def encrypt(string):\n",
    "    ''' function asks the user for a string and uses this method to encrypt the string.\n",
    "     One way to rearrange the characters is to pick out the characters at even indices, \n",
    "     put them first in the encrypted string, and follow them by the odd characters.'''\n",
    "    even = ''\n",
    "    odd = ''\n",
    "    for i in range(len(string)):\n",
    "        if i % 2 == 0:\n",
    "            even += string[i]\n",
    "        else:\n",
    "            odd += string[i]\n",
    "    encrypt_string = even + odd\n",
    "    return encrypt_string\n",
    "\n",
    "\n",
    "def decrypt(encrypt_string):\n",
    "    '''function that decrypts a string that was encrypted with encpypt() function '''\n",
    "    m = len(encrypt_string)//2\n",
    "    even = encrypt_string[:m]\n",
    "    odd = encrypt_string[m:]\n",
    "    \n",
    "    decrypt_string = \"\"\n",
    "    for i in range(m):\n",
    "        decrypt_string += even[i] + odd[i]\n",
    "    \n",
    "    if len(even) > len(odd):\n",
    "        decrypt_string += even[-1]\n",
    "    \n",
    "    return decrypt_string\n",
    "\n",
    "\n",
    "\n",
    "s = input('Enter word: ')\n",
    "a = encrypt(s)\n",
    "print(f'Encrypted : {a}') \n",
    "print(f'Dercypt: {decrypt(a)}')"
   ]
  },
  {
   "cell_type": "markdown",
   "id": "50906b0d",
   "metadata": {},
   "source": [
    "### Question 28\n",
    "Given an integer array nums and an integer  𝑘\n",
    " , return the  𝑘\n",
    "  most frequent elements.\n",
    "\n",
    "Example 1:\n",
    "\n",
    "Input: nums = [1,1,1,2,2,3], k = 2\n",
    "\n",
    "Output: [1,2]\n",
    "\n",
    "### Answer"
   ]
  },
  {
   "cell_type": "code",
   "execution_count": 3,
   "id": "a469dc3a",
   "metadata": {},
   "outputs": [
    {
     "data": {
      "text/plain": [
       "[1, 5, 6]"
      ]
     },
     "execution_count": 3,
     "metadata": {},
     "output_type": "execute_result"
    }
   ],
   "source": [
    "def frequent(nums, k):\n",
    "    ''' return the  𝑘 most frequent elements'''\n",
    "    result = []\n",
    "    for j in range(len(nums)):\n",
    "        if nums.count(nums[j]) >= k and nums[j] not in result:\n",
    "            result.append(nums[j])\n",
    "    return result\n",
    "\n",
    "\n",
    "nums_l = [1,1,1,1,2,2,3,3,5,5,5,6,6,6,6,6,6]\n",
    "frequent(nums_l,3)"
   ]
  },
  {
   "cell_type": "markdown",
   "id": "b5f1f6ca",
   "metadata": {},
   "source": [
    "### Question 30\n",
    "You are given an  𝑚𝑥𝑛\n",
    "  integer matrix matrix with the following two properties:\n",
    "\n",
    "Each row is sorted in non-decreasing order.\n",
    "\n",
    "The first integer of each row is greater than the last integer of the previous row.\n",
    "\n",
    "Given an integer target, return True if target is in matrix or false otherwise.\n",
    "\n",
    "You must write a solution in  𝑂(𝑙𝑜𝑔(𝑚∗𝑛))\n",
    "  time complexity.\n",
    "\n",
    "Example:\n",
    "\n",
    "Input: matrix = [[1,3,5,7],[10,11,16,20],[23,30,34,60]], target = 3\n",
    "\n",
    "Output: true\n",
    "\n",
    "### Answer "
   ]
  },
  {
   "cell_type": "code",
   "execution_count": 7,
   "id": "fab20c49",
   "metadata": {},
   "outputs": [],
   "source": [
    "def hit(matrix, target):\n",
    "    '''If target is in matrix return True else False. '''\n",
    "    for row in range(len(matrix)):\n",
    "        if row+1 < len(matrix) and target < matrix[row+1][0]:\n",
    "            for col in  range(len(matrix[row])):\n",
    "                if matrix[row][col] == target:\n",
    "                    return True\n",
    "                else:\n",
    "                    return False\n",
    "\n",
    "\n",
    "m = [[1,2,3],[6,7,9],[12,17,24]]            \n",
    "hit(m,12)\n"
   ]
  }
 ],
 "metadata": {
  "kernelspec": {
   "display_name": "Python 3 (ipykernel)",
   "language": "python",
   "name": "python3"
  },
  "language_info": {
   "codemirror_mode": {
    "name": "ipython",
    "version": 3
   },
   "file_extension": ".py",
   "mimetype": "text/x-python",
   "name": "python",
   "nbconvert_exporter": "python",
   "pygments_lexer": "ipython3",
   "version": "3.10.9"
  }
 },
 "nbformat": 4,
 "nbformat_minor": 5
}
