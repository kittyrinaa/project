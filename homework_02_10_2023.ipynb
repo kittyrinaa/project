{
 "cells": [
  {
   "cell_type": "markdown",
   "id": "a976253a",
   "metadata": {},
   "source": [
    "# Set up\n",
    "\n",
    "**Jupyter Notebook** \n",
    "\n",
    "To Install the classic Jupyter Notebook, run in your terminal / command prompt:\n",
    "\n",
    "*pip install notebook*\n",
    "\n",
    "To run the notebook:\n",
    "\n",
    "*jupyter notebook*\n",
    "\n",
    "**JupyterLab**\n",
    "\n",
    "To Install JupyterLab with pip:\n",
    "\n",
    "*pip install jupyterlab*\n",
    "\n",
    "Once installed, launch JupyterLab with\n",
    "\n",
    "*jupyter lab*"
   ]
  },
  {
   "cell_type": "code",
   "execution_count": 1,
   "id": "e4dbce4d",
   "metadata": {},
   "outputs": [
    {
     "name": "stdout",
     "output_type": "stream",
     "text": [
      "sys.version_info(major=3, minor=9, micro=7, releaselevel='final', serial=0)\n",
      "version 3.9.7\n"
     ]
    }
   ],
   "source": [
    "import sys\n",
    "vv = sys.version_info\n",
    "print(vv)\n",
    "print('version ' + '.'.join([str(x) for x in vv[0:3]]))"
   ]
  },
  {
   "cell_type": "markdown",
   "id": "573058f1",
   "metadata": {},
   "source": [
    "##  Question 1"
   ]
  },
  {
   "cell_type": "markdown",
   "id": "b46d23d4",
   "metadata": {},
   "source": [
    "Write a print statement to print the mixed fraction 3 5/8 as a floating point number and as an integer."
   ]
  },
  {
   "cell_type": "code",
   "execution_count": 1,
   "outputs": [
    {
     "name": "stdout",
     "output_type": "stream",
     "text": [
      "3.625\n",
      "3\n"
     ]
    }
   ],
   "source": [
    "mixed_fraction = 3 + 5/8 \n",
    "print(float(mixed_fraction))\n",
    "print(int(mixed_fraction))"
   ],
   "metadata": {
    "collapsed": false,
    "ExecuteTime": {
     "end_time": "2023-10-03T15:48:38.386389800Z",
     "start_time": "2023-10-03T15:48:36.668621100Z"
    }
   },
   "id": "db515b524bdab76c"
  },
  {
   "cell_type": "markdown",
   "id": "c23848c7",
   "metadata": {},
   "source": [
    "##  Question 5"
   ]
  },
  {
   "cell_type": "markdown",
   "id": "a73923cd",
   "metadata": {},
   "source": [
    "Write a Python program which accepts the user's first and last name and print them in reverse order with a space between them."
   ]
  },
  {
   "cell_type": "code",
   "execution_count": 2,
   "outputs": [
    {
     "name": "stdout",
     "output_type": "stream",
     "text": [
      "Reversed names: Smith Joan\n"
     ]
    }
   ],
   "source": [
    "first_name = input(\"Enter your first name: \")\n",
    "last_name = input(\"Enter your last name: \")\n",
    "\n",
    "reversed_names = last_name + \" \" + first_name\n",
    "\n",
    "print(\"Reversed names: \" + reversed_names)"
   ],
   "metadata": {
    "collapsed": false,
    "ExecuteTime": {
     "end_time": "2023-10-03T15:51:45.133427200Z",
     "start_time": "2023-10-03T15:51:30.349180800Z"
    }
   },
   "id": "e97e457e9411f5a3"
  },
  {
   "cell_type": "markdown",
   "id": "130f9f3f",
   "metadata": {},
   "source": [
    "##  Question 9"
   ]
  },
  {
   "cell_type": "markdown",
   "id": "bb487099",
   "metadata": {},
   "source": [
    "Write a program that asks the user to enter an angle between -180° and 180°. Using an expression with the modulo operator, convert the angle to its equivalent between 0° and 360°."
   ]
  },
  {
   "cell_type": "code",
   "execution_count": 3,
   "outputs": [
    {
     "name": "stdout",
     "output_type": "stream",
     "text": [
      "Equivalent angle between 0° and 360°: 60 °\n"
     ]
    }
   ],
   "source": [
    "angle = int(input(\"Enter an angle between -180° and 180°: \"))\n",
    "\n",
    "angle = angle % 360\n",
    "\n",
    "print(\"Equivalent angle between 0° and 360°:\", angle, \"°\")"
   ],
   "metadata": {
    "collapsed": false,
    "ExecuteTime": {
     "end_time": "2023-10-03T15:53:39.508847200Z",
     "start_time": "2023-10-03T15:53:30.017574300Z"
    }
   },
   "id": "ee36b72627efd000"
  },
  {
   "cell_type": "markdown",
   "id": "35fd7661",
   "metadata": {},
   "source": [
    "##  Question 13"
   ]
  },
  {
   "cell_type": "markdown",
   "id": "33b49de2",
   "metadata": {},
   "source": [
    "Write a program that asks the user to enter a length in centimeters. If the user enters a negative length, the program should tell the user that the entry is invalid. Otherwise, the program should convert the length to inches and print out the result. There are 2.54 centimeters in an inch."
   ]
  },
  {
   "cell_type": "code",
   "execution_count": 4,
   "outputs": [
    {
     "name": "stdout",
     "output_type": "stream",
     "text": [
      "Length in inches: 13.779527559055119\n"
     ]
    }
   ],
   "source": [
    "length_cm = float(input(\"Enter a length in centimeters: \"))\n",
    "\n",
    "if length_cm < 0:\n",
    "    print(\"Invalid entry. Length must be a positive value.\")\n",
    "else:\n",
    "    inches = length_cm / 2.54\n",
    "    print(\"Length in inches:\", inches)"
   ],
   "metadata": {
    "collapsed": false,
    "ExecuteTime": {
     "end_time": "2023-10-03T15:56:42.710600600Z",
     "start_time": "2023-10-03T15:56:37.883767200Z"
    }
   },
   "id": "1d0a83bae35b15e"
  },
  {
   "cell_type": "markdown",
   "id": "1fc69436",
   "metadata": {},
   "source": [
    "##  Question 17"
   ]
  },
  {
   "cell_type": "markdown",
   "id": "c74efb86",
   "metadata": {},
   "source": [
    "Calculate number of business days between two dates using datetime module."
   ]
  },
  {
   "cell_type": "code",
   "execution_count": 5,
   "outputs": [
    {
     "name": "stdout",
     "output_type": "stream",
     "text": [
      "Number of business days: 67\n"
     ]
    }
   ],
   "source": [
    "from datetime import date, timedelta\n",
    "\n",
    "def count_business_days(start_date, end_date):\n",
    "    count = 0\n",
    "    current_date = start_date\n",
    "\n",
    "    while current_date <= end_date:\n",
    "        if current_date.weekday() < 5:\n",
    "            count += 1\n",
    "\n",
    "        current_date += timedelta(days=1)\n",
    "\n",
    "    return count\n",
    "\n",
    "start_date_str = input(\"Enter the start date (YYYY-MM-DD): \")\n",
    "end_date_str = input(\"Enter the end date (YYYY-MM-DD): \")\n",
    "\n",
    "start_date = date.fromisoformat(start_date_str)\n",
    "end_date = date.fromisoformat(end_date_str)\n",
    "\n",
    "business_days = count_business_days(start_date, end_date)\n",
    "\n",
    "print(\"Number of business days:\", business_days)"
   ],
   "metadata": {
    "collapsed": false,
    "ExecuteTime": {
     "end_time": "2023-10-03T16:02:00.494867700Z",
     "start_time": "2023-10-03T16:01:18.136041300Z"
    }
   },
   "id": "ecaf4a86615f773e"
  },
  {
   "cell_type": "markdown",
   "id": "98967b66",
   "metadata": {},
   "source": [
    "## Question 21"
   ]
  },
  {
   "cell_type": "markdown",
   "id": "2274ae8d",
   "metadata": {},
   "source": [
    "Calculate number of distinct characters in a string using a for loop."
   ]
  },
  {
   "cell_type": "code",
   "execution_count": 6,
   "outputs": [
    {
     "name": "stdout",
     "output_type": "stream",
     "text": [
      "Number of distinct characters: 13\n"
     ]
    }
   ],
   "source": [
    "string = input(\"Enter a string: \")\n",
    "\n",
    "distinct_characters = set()\n",
    "\n",
    "for char in string:\n",
    "    distinct_characters.add(char)\n",
    "\n",
    "num_distinct_characters = len(distinct_characters)\n",
    "\n",
    "print(\"Number of distinct characters:\", num_distinct_characters)"
   ],
   "metadata": {
    "collapsed": false,
    "ExecuteTime": {
     "end_time": "2023-10-03T16:05:10.520672400Z",
     "start_time": "2023-10-03T16:04:33.500333700Z"
    }
   },
   "id": "edd5ad94912e69d"
  },
  {
   "cell_type": "markdown",
   "id": "1c38b628",
   "metadata": {},
   "source": [
    "## Question 25\n",
    "\n",
    "Write a function that for 2 given dictionaries find their common keys."
   ]
  },
  {
   "cell_type": "code",
   "execution_count": 8,
   "outputs": [
    {
     "name": "stdout",
     "output_type": "stream",
     "text": [
      "Common keys: ['b', 'c']\n"
     ]
    }
   ],
   "source": [
    "def find_common_keys(dict1, dict2):\n",
    "    common_keys = []\n",
    "\n",
    "    for key in dict1.keys():\n",
    "        if key in dict2:\n",
    "            common_keys.append(key)\n",
    "\n",
    "    return common_keys\n",
    "dict1 = {\"a\": 1, \"b\": 2, \"c\": 3}\n",
    "dict2 = {\"b\": 10, \"c\": 20, \"d\": 30}\n",
    "\n",
    "common_keys = find_common_keys(dict1, dict2)\n",
    "\n",
    "print(\"Common keys:\", common_keys)"
   ],
   "metadata": {
    "collapsed": false,
    "ExecuteTime": {
     "end_time": "2023-10-03T16:08:39.683130400Z",
     "start_time": "2023-10-03T16:08:39.667124Z"
    }
   },
   "id": "bf76af62c405b694"
  }
 ],
 "metadata": {
  "kernelspec": {
   "display_name": "Python 3 (ipykernel)",
   "language": "python",
   "name": "python3"
  },
  "language_info": {
   "codemirror_mode": {
    "name": "ipython",
    "version": 3
   },
   "file_extension": ".py",
   "mimetype": "text/x-python",
   "name": "python",
   "nbconvert_exporter": "python",
   "pygments_lexer": "ipython3",
   "version": "3.9.7"
  },
  "toc": {
   "base_numbering": 1,
   "nav_menu": {},
   "number_sections": true,
   "sideBar": true,
   "skip_h1_title": false,
   "title_cell": "Table of Contents",
   "title_sidebar": "Contents",
   "toc_cell": true,
   "toc_position": {},
   "toc_section_display": true,
   "toc_window_display": true
  }
 },
 "nbformat": 4,
 "nbformat_minor": 5
}
