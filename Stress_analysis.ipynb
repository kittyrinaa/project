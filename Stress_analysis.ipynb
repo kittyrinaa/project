{
 "cells": [
  {
   "cell_type": "markdown",
   "id": "a3648c3a",
   "metadata": {},
   "source": [
    "### Some data analisys "
   ]
  },
  {
   "cell_type": "code",
   "execution_count": 6,
   "id": "e8aef05d",
   "metadata": {},
   "outputs": [],
   "source": [
    "import pandas as pd \n",
    "import numpy as np \n",
    "import matplotlib.pyplot as plt\n",
    "import seaborn as sns"
   ]
  },
  {
   "cell_type": "markdown",
   "id": "372a9989",
   "metadata": {},
   "source": [
    "#### First of all read our dataset and make some basic info about our set and giving more description about data."
   ]
  },
  {
   "cell_type": "code",
   "execution_count": 7,
   "id": "b27beb30",
   "metadata": {},
   "outputs": [
    {
     "data": {
      "text/html": [
       "<div>\n",
       "<style scoped>\n",
       "    .dataframe tbody tr th:only-of-type {\n",
       "        vertical-align: middle;\n",
       "    }\n",
       "\n",
       "    .dataframe tbody tr th {\n",
       "        vertical-align: top;\n",
       "    }\n",
       "\n",
       "    .dataframe thead th {\n",
       "        text-align: right;\n",
       "    }\n",
       "</style>\n",
       "<table border=\"1\" class=\"dataframe\">\n",
       "  <thead>\n",
       "    <tr style=\"text-align: right;\">\n",
       "      <th></th>\n",
       "      <th>anxiety_level</th>\n",
       "      <th>self_esteem</th>\n",
       "      <th>mental_health_history</th>\n",
       "      <th>depression</th>\n",
       "      <th>headache</th>\n",
       "      <th>blood_pressure</th>\n",
       "      <th>sleep_quality</th>\n",
       "      <th>breathing_problem</th>\n",
       "      <th>noise_level</th>\n",
       "      <th>living_conditions</th>\n",
       "      <th>...</th>\n",
       "      <th>basic_needs</th>\n",
       "      <th>academic_performance</th>\n",
       "      <th>study_load</th>\n",
       "      <th>teacher_student_relationship</th>\n",
       "      <th>future_career_concerns</th>\n",
       "      <th>social_support</th>\n",
       "      <th>peer_pressure</th>\n",
       "      <th>extracurricular_activities</th>\n",
       "      <th>bullying</th>\n",
       "      <th>stress_level</th>\n",
       "    </tr>\n",
       "  </thead>\n",
       "  <tbody>\n",
       "    <tr>\n",
       "      <th>0</th>\n",
       "      <td>14</td>\n",
       "      <td>20</td>\n",
       "      <td>0</td>\n",
       "      <td>11</td>\n",
       "      <td>2</td>\n",
       "      <td>1</td>\n",
       "      <td>2</td>\n",
       "      <td>4</td>\n",
       "      <td>2</td>\n",
       "      <td>3</td>\n",
       "      <td>...</td>\n",
       "      <td>2</td>\n",
       "      <td>3</td>\n",
       "      <td>2</td>\n",
       "      <td>3</td>\n",
       "      <td>3</td>\n",
       "      <td>2</td>\n",
       "      <td>3</td>\n",
       "      <td>3</td>\n",
       "      <td>2</td>\n",
       "      <td>1</td>\n",
       "    </tr>\n",
       "    <tr>\n",
       "      <th>1</th>\n",
       "      <td>15</td>\n",
       "      <td>8</td>\n",
       "      <td>1</td>\n",
       "      <td>15</td>\n",
       "      <td>5</td>\n",
       "      <td>3</td>\n",
       "      <td>1</td>\n",
       "      <td>4</td>\n",
       "      <td>3</td>\n",
       "      <td>1</td>\n",
       "      <td>...</td>\n",
       "      <td>2</td>\n",
       "      <td>1</td>\n",
       "      <td>4</td>\n",
       "      <td>1</td>\n",
       "      <td>5</td>\n",
       "      <td>1</td>\n",
       "      <td>4</td>\n",
       "      <td>5</td>\n",
       "      <td>5</td>\n",
       "      <td>2</td>\n",
       "    </tr>\n",
       "    <tr>\n",
       "      <th>2</th>\n",
       "      <td>12</td>\n",
       "      <td>18</td>\n",
       "      <td>1</td>\n",
       "      <td>14</td>\n",
       "      <td>2</td>\n",
       "      <td>1</td>\n",
       "      <td>2</td>\n",
       "      <td>2</td>\n",
       "      <td>2</td>\n",
       "      <td>2</td>\n",
       "      <td>...</td>\n",
       "      <td>2</td>\n",
       "      <td>2</td>\n",
       "      <td>3</td>\n",
       "      <td>3</td>\n",
       "      <td>2</td>\n",
       "      <td>2</td>\n",
       "      <td>3</td>\n",
       "      <td>2</td>\n",
       "      <td>2</td>\n",
       "      <td>1</td>\n",
       "    </tr>\n",
       "    <tr>\n",
       "      <th>3</th>\n",
       "      <td>16</td>\n",
       "      <td>12</td>\n",
       "      <td>1</td>\n",
       "      <td>15</td>\n",
       "      <td>4</td>\n",
       "      <td>3</td>\n",
       "      <td>1</td>\n",
       "      <td>3</td>\n",
       "      <td>4</td>\n",
       "      <td>2</td>\n",
       "      <td>...</td>\n",
       "      <td>2</td>\n",
       "      <td>2</td>\n",
       "      <td>4</td>\n",
       "      <td>1</td>\n",
       "      <td>4</td>\n",
       "      <td>1</td>\n",
       "      <td>4</td>\n",
       "      <td>4</td>\n",
       "      <td>5</td>\n",
       "      <td>2</td>\n",
       "    </tr>\n",
       "    <tr>\n",
       "      <th>4</th>\n",
       "      <td>16</td>\n",
       "      <td>28</td>\n",
       "      <td>0</td>\n",
       "      <td>7</td>\n",
       "      <td>2</td>\n",
       "      <td>3</td>\n",
       "      <td>5</td>\n",
       "      <td>1</td>\n",
       "      <td>3</td>\n",
       "      <td>2</td>\n",
       "      <td>...</td>\n",
       "      <td>3</td>\n",
       "      <td>4</td>\n",
       "      <td>3</td>\n",
       "      <td>1</td>\n",
       "      <td>2</td>\n",
       "      <td>1</td>\n",
       "      <td>5</td>\n",
       "      <td>0</td>\n",
       "      <td>5</td>\n",
       "      <td>1</td>\n",
       "    </tr>\n",
       "    <tr>\n",
       "      <th>...</th>\n",
       "      <td>...</td>\n",
       "      <td>...</td>\n",
       "      <td>...</td>\n",
       "      <td>...</td>\n",
       "      <td>...</td>\n",
       "      <td>...</td>\n",
       "      <td>...</td>\n",
       "      <td>...</td>\n",
       "      <td>...</td>\n",
       "      <td>...</td>\n",
       "      <td>...</td>\n",
       "      <td>...</td>\n",
       "      <td>...</td>\n",
       "      <td>...</td>\n",
       "      <td>...</td>\n",
       "      <td>...</td>\n",
       "      <td>...</td>\n",
       "      <td>...</td>\n",
       "      <td>...</td>\n",
       "      <td>...</td>\n",
       "      <td>...</td>\n",
       "    </tr>\n",
       "    <tr>\n",
       "      <th>1095</th>\n",
       "      <td>11</td>\n",
       "      <td>17</td>\n",
       "      <td>0</td>\n",
       "      <td>14</td>\n",
       "      <td>3</td>\n",
       "      <td>1</td>\n",
       "      <td>3</td>\n",
       "      <td>2</td>\n",
       "      <td>2</td>\n",
       "      <td>2</td>\n",
       "      <td>...</td>\n",
       "      <td>3</td>\n",
       "      <td>2</td>\n",
       "      <td>2</td>\n",
       "      <td>2</td>\n",
       "      <td>3</td>\n",
       "      <td>3</td>\n",
       "      <td>2</td>\n",
       "      <td>3</td>\n",
       "      <td>3</td>\n",
       "      <td>1</td>\n",
       "    </tr>\n",
       "    <tr>\n",
       "      <th>1096</th>\n",
       "      <td>9</td>\n",
       "      <td>12</td>\n",
       "      <td>0</td>\n",
       "      <td>8</td>\n",
       "      <td>0</td>\n",
       "      <td>3</td>\n",
       "      <td>0</td>\n",
       "      <td>0</td>\n",
       "      <td>0</td>\n",
       "      <td>1</td>\n",
       "      <td>...</td>\n",
       "      <td>4</td>\n",
       "      <td>0</td>\n",
       "      <td>1</td>\n",
       "      <td>1</td>\n",
       "      <td>1</td>\n",
       "      <td>1</td>\n",
       "      <td>3</td>\n",
       "      <td>4</td>\n",
       "      <td>3</td>\n",
       "      <td>2</td>\n",
       "    </tr>\n",
       "    <tr>\n",
       "      <th>1097</th>\n",
       "      <td>4</td>\n",
       "      <td>26</td>\n",
       "      <td>0</td>\n",
       "      <td>3</td>\n",
       "      <td>1</td>\n",
       "      <td>2</td>\n",
       "      <td>5</td>\n",
       "      <td>2</td>\n",
       "      <td>2</td>\n",
       "      <td>3</td>\n",
       "      <td>...</td>\n",
       "      <td>4</td>\n",
       "      <td>5</td>\n",
       "      <td>1</td>\n",
       "      <td>4</td>\n",
       "      <td>1</td>\n",
       "      <td>3</td>\n",
       "      <td>1</td>\n",
       "      <td>2</td>\n",
       "      <td>1</td>\n",
       "      <td>0</td>\n",
       "    </tr>\n",
       "    <tr>\n",
       "      <th>1098</th>\n",
       "      <td>21</td>\n",
       "      <td>0</td>\n",
       "      <td>1</td>\n",
       "      <td>19</td>\n",
       "      <td>5</td>\n",
       "      <td>3</td>\n",
       "      <td>1</td>\n",
       "      <td>4</td>\n",
       "      <td>3</td>\n",
       "      <td>1</td>\n",
       "      <td>...</td>\n",
       "      <td>1</td>\n",
       "      <td>2</td>\n",
       "      <td>5</td>\n",
       "      <td>1</td>\n",
       "      <td>4</td>\n",
       "      <td>1</td>\n",
       "      <td>4</td>\n",
       "      <td>4</td>\n",
       "      <td>4</td>\n",
       "      <td>2</td>\n",
       "    </tr>\n",
       "    <tr>\n",
       "      <th>1099</th>\n",
       "      <td>18</td>\n",
       "      <td>6</td>\n",
       "      <td>1</td>\n",
       "      <td>15</td>\n",
       "      <td>3</td>\n",
       "      <td>3</td>\n",
       "      <td>0</td>\n",
       "      <td>3</td>\n",
       "      <td>3</td>\n",
       "      <td>0</td>\n",
       "      <td>...</td>\n",
       "      <td>3</td>\n",
       "      <td>3</td>\n",
       "      <td>4</td>\n",
       "      <td>3</td>\n",
       "      <td>3</td>\n",
       "      <td>1</td>\n",
       "      <td>5</td>\n",
       "      <td>1</td>\n",
       "      <td>4</td>\n",
       "      <td>2</td>\n",
       "    </tr>\n",
       "  </tbody>\n",
       "</table>\n",
       "<p>1100 rows × 21 columns</p>\n",
       "</div>"
      ],
      "text/plain": [
       "      anxiety_level  self_esteem  mental_health_history  depression  headache  \\\n",
       "0                14           20                      0          11         2   \n",
       "1                15            8                      1          15         5   \n",
       "2                12           18                      1          14         2   \n",
       "3                16           12                      1          15         4   \n",
       "4                16           28                      0           7         2   \n",
       "...             ...          ...                    ...         ...       ...   \n",
       "1095             11           17                      0          14         3   \n",
       "1096              9           12                      0           8         0   \n",
       "1097              4           26                      0           3         1   \n",
       "1098             21            0                      1          19         5   \n",
       "1099             18            6                      1          15         3   \n",
       "\n",
       "      blood_pressure  sleep_quality  breathing_problem  noise_level  \\\n",
       "0                  1              2                  4            2   \n",
       "1                  3              1                  4            3   \n",
       "2                  1              2                  2            2   \n",
       "3                  3              1                  3            4   \n",
       "4                  3              5                  1            3   \n",
       "...              ...            ...                ...          ...   \n",
       "1095               1              3                  2            2   \n",
       "1096               3              0                  0            0   \n",
       "1097               2              5                  2            2   \n",
       "1098               3              1                  4            3   \n",
       "1099               3              0                  3            3   \n",
       "\n",
       "      living_conditions  ...  basic_needs  academic_performance  study_load  \\\n",
       "0                     3  ...            2                     3           2   \n",
       "1                     1  ...            2                     1           4   \n",
       "2                     2  ...            2                     2           3   \n",
       "3                     2  ...            2                     2           4   \n",
       "4                     2  ...            3                     4           3   \n",
       "...                 ...  ...          ...                   ...         ...   \n",
       "1095                  2  ...            3                     2           2   \n",
       "1096                  1  ...            4                     0           1   \n",
       "1097                  3  ...            4                     5           1   \n",
       "1098                  1  ...            1                     2           5   \n",
       "1099                  0  ...            3                     3           4   \n",
       "\n",
       "      teacher_student_relationship  future_career_concerns  social_support  \\\n",
       "0                                3                       3               2   \n",
       "1                                1                       5               1   \n",
       "2                                3                       2               2   \n",
       "3                                1                       4               1   \n",
       "4                                1                       2               1   \n",
       "...                            ...                     ...             ...   \n",
       "1095                             2                       3               3   \n",
       "1096                             1                       1               1   \n",
       "1097                             4                       1               3   \n",
       "1098                             1                       4               1   \n",
       "1099                             3                       3               1   \n",
       "\n",
       "      peer_pressure  extracurricular_activities  bullying  stress_level  \n",
       "0                 3                           3         2             1  \n",
       "1                 4                           5         5             2  \n",
       "2                 3                           2         2             1  \n",
       "3                 4                           4         5             2  \n",
       "4                 5                           0         5             1  \n",
       "...             ...                         ...       ...           ...  \n",
       "1095              2                           3         3             1  \n",
       "1096              3                           4         3             2  \n",
       "1097              1                           2         1             0  \n",
       "1098              4                           4         4             2  \n",
       "1099              5                           1         4             2  \n",
       "\n",
       "[1100 rows x 21 columns]"
      ]
     },
     "execution_count": 7,
     "metadata": {},
     "output_type": "execute_result"
    }
   ],
   "source": [
    "data = pd.read_csv('StressLevelDataset.csv')\n",
    "data"
   ]
  },
  {
   "cell_type": "code",
   "execution_count": 8,
   "id": "040c5714",
   "metadata": {
    "scrolled": true
   },
   "outputs": [
    {
     "name": "stdout",
     "output_type": "stream",
     "text": [
      "<class 'pandas.core.frame.DataFrame'>\n",
      "RangeIndex: 1100 entries, 0 to 1099\n",
      "Data columns (total 21 columns):\n",
      " #   Column                        Non-Null Count  Dtype\n",
      "---  ------                        --------------  -----\n",
      " 0   anxiety_level                 1100 non-null   int64\n",
      " 1   self_esteem                   1100 non-null   int64\n",
      " 2   mental_health_history         1100 non-null   int64\n",
      " 3   depression                    1100 non-null   int64\n",
      " 4   headache                      1100 non-null   int64\n",
      " 5   blood_pressure                1100 non-null   int64\n",
      " 6   sleep_quality                 1100 non-null   int64\n",
      " 7   breathing_problem             1100 non-null   int64\n",
      " 8   noise_level                   1100 non-null   int64\n",
      " 9   living_conditions             1100 non-null   int64\n",
      " 10  safety                        1100 non-null   int64\n",
      " 11  basic_needs                   1100 non-null   int64\n",
      " 12  academic_performance          1100 non-null   int64\n",
      " 13  study_load                    1100 non-null   int64\n",
      " 14  teacher_student_relationship  1100 non-null   int64\n",
      " 15  future_career_concerns        1100 non-null   int64\n",
      " 16  social_support                1100 non-null   int64\n",
      " 17  peer_pressure                 1100 non-null   int64\n",
      " 18  extracurricular_activities    1100 non-null   int64\n",
      " 19  bullying                      1100 non-null   int64\n",
      " 20  stress_level                  1100 non-null   int64\n",
      "dtypes: int64(21)\n",
      "memory usage: 180.6 KB\n"
     ]
    }
   ],
   "source": [
    "data.info()"
   ]
  },
  {
   "cell_type": "markdown",
   "id": "8c3961b6",
   "metadata": {},
   "source": [
    "##### Okay we can see that our dataset anout Student stress factors don't have null  cell aand all columns is need"
   ]
  },
  {
   "cell_type": "markdown",
   "id": "50ba6f87",
   "metadata": {},
   "source": [
    "More inforn about data:\n",
    "1) Anxiety: range from 0 to 21, Measure: GAD-7\n",
    "2) Self-esteem: range 0 to 30, Measure: Rosenberg Self Esteem Scale\n",
    "3) Mental Health History: 0 if no mental health history, 1 if mental health history\n",
    "4) Depression: range 0 to 27, Measure: Patient Health Questionnaire (PHQ-9)\n",
    "5) Other features mostly range from 0 to 5 considering 0,1 to be low, 2,3 to be mid, and 4,5 to be high."
   ]
  },
  {
   "cell_type": "code",
   "execution_count": 19,
   "id": "529297c2",
   "metadata": {},
   "outputs": [
    {
     "data": {
      "text/html": [
       "<div>\n",
       "<style scoped>\n",
       "    .dataframe tbody tr th:only-of-type {\n",
       "        vertical-align: middle;\n",
       "    }\n",
       "\n",
       "    .dataframe tbody tr th {\n",
       "        vertical-align: top;\n",
       "    }\n",
       "\n",
       "    .dataframe thead th {\n",
       "        text-align: right;\n",
       "    }\n",
       "</style>\n",
       "<table border=\"1\" class=\"dataframe\">\n",
       "  <thead>\n",
       "    <tr style=\"text-align: right;\">\n",
       "      <th></th>\n",
       "      <th>anxiety_level</th>\n",
       "      <th>self_esteem</th>\n",
       "      <th>mental_health_history</th>\n",
       "      <th>depression</th>\n",
       "      <th>headache</th>\n",
       "      <th>blood_pressure</th>\n",
       "      <th>sleep_quality</th>\n",
       "      <th>breathing_problem</th>\n",
       "      <th>noise_level</th>\n",
       "      <th>living_conditions</th>\n",
       "      <th>...</th>\n",
       "      <th>basic_needs</th>\n",
       "      <th>academic_performance</th>\n",
       "      <th>study_load</th>\n",
       "      <th>teacher_student_relationship</th>\n",
       "      <th>future_career_concerns</th>\n",
       "      <th>social_support</th>\n",
       "      <th>peer_pressure</th>\n",
       "      <th>extracurricular_activities</th>\n",
       "      <th>bullying</th>\n",
       "      <th>stress_level</th>\n",
       "    </tr>\n",
       "  </thead>\n",
       "  <tbody>\n",
       "    <tr>\n",
       "      <th>count</th>\n",
       "      <td>1100.000000</td>\n",
       "      <td>1100.000000</td>\n",
       "      <td>1100.000000</td>\n",
       "      <td>1100.000000</td>\n",
       "      <td>1100.000000</td>\n",
       "      <td>1100.000000</td>\n",
       "      <td>1100.000000</td>\n",
       "      <td>1100.000000</td>\n",
       "      <td>1100.000000</td>\n",
       "      <td>1100.000000</td>\n",
       "      <td>...</td>\n",
       "      <td>1100.000000</td>\n",
       "      <td>1100.000000</td>\n",
       "      <td>1100.000000</td>\n",
       "      <td>1100.000000</td>\n",
       "      <td>1100.000000</td>\n",
       "      <td>1100.000000</td>\n",
       "      <td>1100.000000</td>\n",
       "      <td>1100.000000</td>\n",
       "      <td>1100.000000</td>\n",
       "      <td>1100.000000</td>\n",
       "    </tr>\n",
       "    <tr>\n",
       "      <th>mean</th>\n",
       "      <td>11.063636</td>\n",
       "      <td>17.777273</td>\n",
       "      <td>0.492727</td>\n",
       "      <td>12.555455</td>\n",
       "      <td>2.508182</td>\n",
       "      <td>2.181818</td>\n",
       "      <td>2.660000</td>\n",
       "      <td>2.753636</td>\n",
       "      <td>2.649091</td>\n",
       "      <td>2.518182</td>\n",
       "      <td>...</td>\n",
       "      <td>2.772727</td>\n",
       "      <td>2.772727</td>\n",
       "      <td>2.621818</td>\n",
       "      <td>2.648182</td>\n",
       "      <td>2.649091</td>\n",
       "      <td>1.881818</td>\n",
       "      <td>2.734545</td>\n",
       "      <td>2.767273</td>\n",
       "      <td>2.617273</td>\n",
       "      <td>0.996364</td>\n",
       "    </tr>\n",
       "    <tr>\n",
       "      <th>std</th>\n",
       "      <td>6.117558</td>\n",
       "      <td>8.944599</td>\n",
       "      <td>0.500175</td>\n",
       "      <td>7.727008</td>\n",
       "      <td>1.409356</td>\n",
       "      <td>0.833575</td>\n",
       "      <td>1.548383</td>\n",
       "      <td>1.400713</td>\n",
       "      <td>1.328127</td>\n",
       "      <td>1.119208</td>\n",
       "      <td>...</td>\n",
       "      <td>1.433761</td>\n",
       "      <td>1.414594</td>\n",
       "      <td>1.315781</td>\n",
       "      <td>1.384579</td>\n",
       "      <td>1.529375</td>\n",
       "      <td>1.047826</td>\n",
       "      <td>1.425265</td>\n",
       "      <td>1.417562</td>\n",
       "      <td>1.530958</td>\n",
       "      <td>0.821673</td>\n",
       "    </tr>\n",
       "    <tr>\n",
       "      <th>min</th>\n",
       "      <td>0.000000</td>\n",
       "      <td>0.000000</td>\n",
       "      <td>0.000000</td>\n",
       "      <td>0.000000</td>\n",
       "      <td>0.000000</td>\n",
       "      <td>1.000000</td>\n",
       "      <td>0.000000</td>\n",
       "      <td>0.000000</td>\n",
       "      <td>0.000000</td>\n",
       "      <td>0.000000</td>\n",
       "      <td>...</td>\n",
       "      <td>0.000000</td>\n",
       "      <td>0.000000</td>\n",
       "      <td>0.000000</td>\n",
       "      <td>0.000000</td>\n",
       "      <td>0.000000</td>\n",
       "      <td>0.000000</td>\n",
       "      <td>0.000000</td>\n",
       "      <td>0.000000</td>\n",
       "      <td>0.000000</td>\n",
       "      <td>0.000000</td>\n",
       "    </tr>\n",
       "    <tr>\n",
       "      <th>25%</th>\n",
       "      <td>6.000000</td>\n",
       "      <td>11.000000</td>\n",
       "      <td>0.000000</td>\n",
       "      <td>6.000000</td>\n",
       "      <td>1.000000</td>\n",
       "      <td>1.000000</td>\n",
       "      <td>1.000000</td>\n",
       "      <td>2.000000</td>\n",
       "      <td>2.000000</td>\n",
       "      <td>2.000000</td>\n",
       "      <td>...</td>\n",
       "      <td>2.000000</td>\n",
       "      <td>2.000000</td>\n",
       "      <td>2.000000</td>\n",
       "      <td>2.000000</td>\n",
       "      <td>1.000000</td>\n",
       "      <td>1.000000</td>\n",
       "      <td>2.000000</td>\n",
       "      <td>2.000000</td>\n",
       "      <td>1.000000</td>\n",
       "      <td>0.000000</td>\n",
       "    </tr>\n",
       "    <tr>\n",
       "      <th>50%</th>\n",
       "      <td>11.000000</td>\n",
       "      <td>19.000000</td>\n",
       "      <td>0.000000</td>\n",
       "      <td>12.000000</td>\n",
       "      <td>3.000000</td>\n",
       "      <td>2.000000</td>\n",
       "      <td>2.500000</td>\n",
       "      <td>3.000000</td>\n",
       "      <td>3.000000</td>\n",
       "      <td>2.000000</td>\n",
       "      <td>...</td>\n",
       "      <td>3.000000</td>\n",
       "      <td>2.000000</td>\n",
       "      <td>2.000000</td>\n",
       "      <td>2.000000</td>\n",
       "      <td>2.000000</td>\n",
       "      <td>2.000000</td>\n",
       "      <td>2.000000</td>\n",
       "      <td>2.500000</td>\n",
       "      <td>3.000000</td>\n",
       "      <td>1.000000</td>\n",
       "    </tr>\n",
       "    <tr>\n",
       "      <th>75%</th>\n",
       "      <td>16.000000</td>\n",
       "      <td>26.000000</td>\n",
       "      <td>1.000000</td>\n",
       "      <td>19.000000</td>\n",
       "      <td>3.000000</td>\n",
       "      <td>3.000000</td>\n",
       "      <td>4.000000</td>\n",
       "      <td>4.000000</td>\n",
       "      <td>3.000000</td>\n",
       "      <td>3.000000</td>\n",
       "      <td>...</td>\n",
       "      <td>4.000000</td>\n",
       "      <td>4.000000</td>\n",
       "      <td>3.000000</td>\n",
       "      <td>4.000000</td>\n",
       "      <td>4.000000</td>\n",
       "      <td>3.000000</td>\n",
       "      <td>4.000000</td>\n",
       "      <td>4.000000</td>\n",
       "      <td>4.000000</td>\n",
       "      <td>2.000000</td>\n",
       "    </tr>\n",
       "    <tr>\n",
       "      <th>max</th>\n",
       "      <td>21.000000</td>\n",
       "      <td>30.000000</td>\n",
       "      <td>1.000000</td>\n",
       "      <td>27.000000</td>\n",
       "      <td>5.000000</td>\n",
       "      <td>3.000000</td>\n",
       "      <td>5.000000</td>\n",
       "      <td>5.000000</td>\n",
       "      <td>5.000000</td>\n",
       "      <td>5.000000</td>\n",
       "      <td>...</td>\n",
       "      <td>5.000000</td>\n",
       "      <td>5.000000</td>\n",
       "      <td>5.000000</td>\n",
       "      <td>5.000000</td>\n",
       "      <td>5.000000</td>\n",
       "      <td>3.000000</td>\n",
       "      <td>5.000000</td>\n",
       "      <td>5.000000</td>\n",
       "      <td>5.000000</td>\n",
       "      <td>2.000000</td>\n",
       "    </tr>\n",
       "  </tbody>\n",
       "</table>\n",
       "<p>8 rows × 21 columns</p>\n",
       "</div>"
      ],
      "text/plain": [
       "       anxiety_level  self_esteem  mental_health_history   depression  \\\n",
       "count    1100.000000  1100.000000            1100.000000  1100.000000   \n",
       "mean       11.063636    17.777273               0.492727    12.555455   \n",
       "std         6.117558     8.944599               0.500175     7.727008   \n",
       "min         0.000000     0.000000               0.000000     0.000000   \n",
       "25%         6.000000    11.000000               0.000000     6.000000   \n",
       "50%        11.000000    19.000000               0.000000    12.000000   \n",
       "75%        16.000000    26.000000               1.000000    19.000000   \n",
       "max        21.000000    30.000000               1.000000    27.000000   \n",
       "\n",
       "          headache  blood_pressure  sleep_quality  breathing_problem  \\\n",
       "count  1100.000000     1100.000000    1100.000000        1100.000000   \n",
       "mean      2.508182        2.181818       2.660000           2.753636   \n",
       "std       1.409356        0.833575       1.548383           1.400713   \n",
       "min       0.000000        1.000000       0.000000           0.000000   \n",
       "25%       1.000000        1.000000       1.000000           2.000000   \n",
       "50%       3.000000        2.000000       2.500000           3.000000   \n",
       "75%       3.000000        3.000000       4.000000           4.000000   \n",
       "max       5.000000        3.000000       5.000000           5.000000   \n",
       "\n",
       "       noise_level  living_conditions  ...  basic_needs  academic_performance  \\\n",
       "count  1100.000000        1100.000000  ...  1100.000000           1100.000000   \n",
       "mean      2.649091           2.518182  ...     2.772727              2.772727   \n",
       "std       1.328127           1.119208  ...     1.433761              1.414594   \n",
       "min       0.000000           0.000000  ...     0.000000              0.000000   \n",
       "25%       2.000000           2.000000  ...     2.000000              2.000000   \n",
       "50%       3.000000           2.000000  ...     3.000000              2.000000   \n",
       "75%       3.000000           3.000000  ...     4.000000              4.000000   \n",
       "max       5.000000           5.000000  ...     5.000000              5.000000   \n",
       "\n",
       "        study_load  teacher_student_relationship  future_career_concerns  \\\n",
       "count  1100.000000                   1100.000000             1100.000000   \n",
       "mean      2.621818                      2.648182                2.649091   \n",
       "std       1.315781                      1.384579                1.529375   \n",
       "min       0.000000                      0.000000                0.000000   \n",
       "25%       2.000000                      2.000000                1.000000   \n",
       "50%       2.000000                      2.000000                2.000000   \n",
       "75%       3.000000                      4.000000                4.000000   \n",
       "max       5.000000                      5.000000                5.000000   \n",
       "\n",
       "       social_support  peer_pressure  extracurricular_activities     bullying  \\\n",
       "count     1100.000000    1100.000000                 1100.000000  1100.000000   \n",
       "mean         1.881818       2.734545                    2.767273     2.617273   \n",
       "std          1.047826       1.425265                    1.417562     1.530958   \n",
       "min          0.000000       0.000000                    0.000000     0.000000   \n",
       "25%          1.000000       2.000000                    2.000000     1.000000   \n",
       "50%          2.000000       2.000000                    2.500000     3.000000   \n",
       "75%          3.000000       4.000000                    4.000000     4.000000   \n",
       "max          3.000000       5.000000                    5.000000     5.000000   \n",
       "\n",
       "       stress_level  \n",
       "count   1100.000000  \n",
       "mean       0.996364  \n",
       "std        0.821673  \n",
       "min        0.000000  \n",
       "25%        0.000000  \n",
       "50%        1.000000  \n",
       "75%        2.000000  \n",
       "max        2.000000  \n",
       "\n",
       "[8 rows x 21 columns]"
      ]
     },
     "execution_count": 19,
     "metadata": {},
     "output_type": "execute_result"
    }
   ],
   "source": [
    "data.describe()"
   ]
  },
  {
   "cell_type": "markdown",
   "id": "f0f423db",
   "metadata": {},
   "source": [
    "#### Analyse a Psycological Factors:\n",
    "1) anxiety_level\t\n",
    "2) self_esteem\t\n",
    "3) mental_health_history\t\n",
    "4) depression\t"
   ]
  },
  {
   "cell_type": "markdown",
   "id": "4a41199d",
   "metadata": {},
   "source": [
    "How much of students have anxiety level gretter than mean?"
   ]
  },
  {
   "cell_type": "code",
   "execution_count": 20,
   "id": "34401730",
   "metadata": {},
   "outputs": [
    {
     "name": "stdout",
     "output_type": "stream",
     "text": [
      "Percantage of students with high level of anxiety: 48.55%\n"
     ]
    }
   ],
   "source": [
    "high_anxiety = data[\"anxiety_level\"][data[\"anxiety_level\"] > data[\"anxiety_level\"].mean()].count() / data[\"anxiety_level\"].count() * 100\n",
    "print('Percantage of students with high level of anxiety:', f'{high_anxiety:.2f}%')"
   ]
  },
  {
   "cell_type": "markdown",
   "id": "893308a6",
   "metadata": {},
   "source": [
    "It's really much.So good idea to look what factors have influence to level of anxiety?"
   ]
  },
  {
   "cell_type": "code",
   "execution_count": 15,
   "id": "0f86896c",
   "metadata": {},
   "outputs": [
    {
     "data": {
      "text/plain": [
       "<Axes: >"
      ]
     },
     "execution_count": 15,
     "metadata": {},
     "output_type": "execute_result"
    },
    {
     "data": {
      "image/png": "[encoded data removed]",
      "text/plain": [
       "<Figure size 400x400 with 2 Axes>"
      ]
     },
     "metadata": {},
     "output_type": "display_data"
    }
   ],
   "source": [
    "num_data = data.iloc[:, :-1]\n",
    "anxiety_correl = num_data.corr()\n",
    "plt.figure(figsize =(4,4))\n",
    "cmap = sns.diverging_palette(240,10,n=9, as_cmap=True)\n",
    "sns.heatmap(anxiety_correl.iloc[1:, :1], annot=True, cmap=cmap)"
   ]
  },
  {
   "cell_type": "markdown",
   "id": "bb94f9b8",
   "metadata": {},
   "source": [
    "I think good choice to look at liner dependence. \n",
    "In result we found good liner dependence between anxiety level and depression, bullying,stress level,future career concerns and others, but that have better coef"
   ]
  },
  {
   "cell_type": "markdown",
   "id": "22c37684",
   "metadata": {},
   "source": [
    "#### Let's make some analysis with depression(reallly native for all of us)"
   ]
  },
  {
   "cell_type": "markdown",
   "id": "55151c49",
   "metadata": {},
   "source": [
    "Correlation between depression and stress level?"
   ]
  },
  {
   "cell_type": "code",
   "execution_count": 10,
   "id": "75c020de",
   "metadata": {},
   "outputs": [
    {
     "name": "stdout",
     "output_type": "stream",
     "text": [
      "Correlation between stress level and depression: 0.734\n"
     ]
    }
   ],
   "source": [
    "stresslevel= data.loc[:, 'stress_level']\n",
    "depression = data.loc[:, 'depression']\n",
    "correl = round(np.corrcoef(stresslevel, depression)[0,1], 3)\n",
    "\n",
    "print(\"Correlation between stress level and depression:\", correl)"
   ]
  },
  {
   "cell_type": "markdown",
   "id": "31298233",
   "metadata": {},
   "source": [
    "Corr coeficiente > 0,7 so it means that we have a good linear relationship between the data"
   ]
  },
  {
   "cell_type": "markdown",
   "id": "222270dd",
   "metadata": {},
   "source": [
    "To be sure, let's make a graph of data distribution"
   ]
  },
  {
   "cell_type": "code",
   "execution_count": 11,
   "id": "e9af901e",
   "metadata": {},
   "outputs": [
    {
     "data": {
      "image/png": "[encoded data removed]",
      "text/plain": [
       "<Figure size 640x480 with 1 Axes>"
      ]
     },
     "metadata": {},
     "output_type": "display_data"
    }
   ],
   "source": [
    "plt.scatter(stresslevel, depression,s=10 , alpha=0.1)\n",
    "plt.xlabel('Stress Level')\n",
    "plt.ylabel('Depression')\n",
    "plt.title('Dependence between stress level and depression')\n",
    "plt.show()"
   ]
  },
  {
   "cell_type": "markdown",
   "id": "869750f4",
   "metadata": {},
   "source": [
    "It work. We can we can place most of our data in a straight line"
   ]
  },
  {
   "cell_type": "markdown",
   "id": "41248444",
   "metadata": {},
   "source": [
    "A bit of explanation to depression levels(PHQ-9):\n",
    "1) 1-4 suggests minimal depression\n",
    "2) 5-9 suggests mild depression\n",
    "3) 10-14 suggests moderate depression\n",
    "4) 15-19 suggests moderately severe depression\n",
    "5) A score of 20-27 suggests severe depression\n",
    "Let's make a category for our student(1-4 minimal depressed , more 4 depressed)"
   ]
  },
  {
   "cell_type": "code",
   "execution_count": 23,
   "id": "fcbada56",
   "metadata": {},
   "outputs": [
    {
     "name": "stdout",
     "output_type": "stream",
     "text": [
      "Percentage per category:\n",
      "depressed            82.0\n",
      "minimal depressed    18.0\n",
      "Name: depression_category, dtype: float64\n"
     ]
    }
   ],
   "source": [
    "data['depression_category'] = data['depression'].apply(lambda x:'depressed' if x > 4 else 'minimal depressed')\n",
    "category_perc = data.depression_category.value_counts()/len(data)*100\n",
    "\n",
    "print('Percentage per category:')\n",
    "print(category_perc)"
   ]
  },
  {
   "cell_type": "markdown",
   "id": "3f76da62",
   "metadata": {},
   "source": [
    "We know anout depence of depression level and other things in these dataset. Let's watch If we take only high level of depression(>=20), other factors also will have high level?(by mean)"
   ]
  },
  {
   "cell_type": "code",
   "execution_count": 22,
   "id": "892eecb6",
   "metadata": {},
   "outputs": [
    {
     "data": {
      "text/plain": [
       "depression                      23.551181\n",
       "anxiety_level                   16.460630\n",
       "self_esteem                      9.090551\n",
       "future_career_concerns           4.039370\n",
       "extracurricular_activities       4.027559\n",
       "peer_pressure                    3.944882\n",
       "bullying                         3.933071\n",
       "noise_level                      3.673228\n",
       "study_load                       3.661417\n",
       "headache                         3.641732\n",
       "breathing_problem                3.618110\n",
       "blood_pressure                   3.000000\n",
       "living_conditions                1.830709\n",
       "safety                           1.779528\n",
       "stress_level                     1.759843\n",
       "basic_needs                      1.740157\n",
       "academic_performance             1.724409\n",
       "teacher_student_relationship     1.562992\n",
       "sleep_quality                    1.354331\n",
       "social_support                   0.897638\n",
       "mental_health_history            0.866142\n",
       "dtype: float64"
      ]
     },
     "execution_count": 22,
     "metadata": {},
     "output_type": "execute_result"
    }
   ],
   "source": [
    "high_depress = data[data.depression >= 20]\n",
    "high_depress = high_depress.iloc[:, :-1]\n",
    "high_depress.mean().sort_values(ascending=False)"
   ]
  },
  {
   "cell_type": "markdown",
   "id": "2126cc97",
   "metadata": {},
   "source": [
    "Yeap, we can see that all factors correspondingly have high level (in the bad direction)"
   ]
  },
  {
   "cell_type": "markdown",
   "id": "23b5f9c2",
   "metadata": {},
   "source": [
    "And intersting what percantage of students with high level of depression asked for help?"
   ]
  },
  {
   "cell_type": "code",
   "execution_count": 14,
   "id": "53db1792",
   "metadata": {},
   "outputs": [
    {
     "name": "stdout",
     "output_type": "stream",
     "text": [
      "Percantage of students with high level of depression who go to specialist: 86.61%\n"
     ]
    }
   ],
   "source": [
    "studentdepress = high_depress['mental_health_history'][high_depress.mental_health_history == 1].sum()\n",
    "high_depress_perc = studentdepress/len(high_depress)*100\n",
    "print('Percantage of students with high level of depression who go to specialist:', f'{high_depress_perc:.2f}%')"
   ]
  },
  {
   "cell_type": "markdown",
   "id": "87a06aed",
   "metadata": {},
   "source": [
    "#### Found other things thst influece on stress level"
   ]
  },
  {
   "cell_type": "code",
   "execution_count": 25,
   "id": "69aac016",
   "metadata": {},
   "outputs": [
    {
     "data": {
      "text/plain": [
       "<Axes: >"
      ]
     },
     "execution_count": 25,
     "metadata": {},
     "output_type": "execute_result"
    },
    {
     "data": {
      "image/png": "[encoded data removed]",
      "text/plain": [
       "<Figure size 400x400 with 2 Axes>"
      ]
     },
     "metadata": {},
     "output_type": "display_data"
    }
   ],
   "source": [
    "num_data = data.iloc[:, :-1]\n",
    "stress_correl = num_data.corr()\n",
    "plt.figure(figsize =(4,4))\n",
    "cmap = sns.diverging_palette(140,240,n=9, as_cmap=True)\n",
    "sns.heatmap(anxiety_correl.iloc[:-1, -1:], annot=True, cmap=cmap)"
   ]
  },
  {
   "cell_type": "markdown",
   "id": "ae688611",
   "metadata": {},
   "source": [
    "Okay highest correletion is between stress level and anxiety level, depression, bullying, future career concerns, sleep quelity"
   ]
  },
  {
   "cell_type": "markdown",
   "id": "6d7fa354",
   "metadata": {},
   "source": [
    " Social Factors. How many student feel they have strong social support"
   ]
  },
  {
   "cell_type": "code",
   "execution_count": 30,
   "id": "c7e920d6",
   "metadata": {},
   "outputs": [
    {
     "data": {
      "text/plain": [
       "458"
      ]
     },
     "execution_count": 30,
     "metadata": {},
     "output_type": "execute_result"
    }
   ],
   "source": [
    "len(data[data['social_support']==3])"
   ]
  },
  {
   "cell_type": "markdown",
   "id": "b06ab1cf",
   "metadata": {},
   "source": [
    "Academic Factors. What is the avarage study load reported by student witn depression > 9?"
   ]
  },
  {
   "cell_type": "code",
   "execution_count": 33,
   "id": "e5af17f6",
   "metadata": {},
   "outputs": [
    {
     "name": "stdout",
     "output_type": "stream",
     "text": [
      "The avarage study load reported by student witn depression(> 9) = 3.15\n"
     ]
    }
   ],
   "source": [
    "n = round(data[data.depression > 9]['study_load'].mean(),2) \n",
    "print('The avarage study load reported by student witn depression(> 9) =', n)"
   ]
  },
  {
   "cell_type": "markdown",
   "id": "a3d5a98f",
   "metadata": {},
   "source": []
  }
 ],
 "metadata": {
  "kernelspec": {
   "display_name": "Python 3 (ipykernel)",
   "language": "python",
   "name": "python3"
  },
  "language_info": {
   "codemirror_mode": {
    "name": "ipython",
    "version": 3
   },
   "file_extension": ".py",
   "mimetype": "text/x-python",
   "name": "python",
   "nbconvert_exporter": "python",
   "pygments_lexer": "ipython3",
   "version": "3.10.9"
  }
 },
 "nbformat": 4,
 "nbformat_minor": 5
}
