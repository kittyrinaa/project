{
 "cells": [
  {
   "cell_type": "code",
   "execution_count": null,
   "id": "0d82d0de",
   "metadata": {},
   "outputs": [],
   "source": [
    "import random"
   ]
  },
  {
   "cell_type": "markdown",
   "id": "13d863ef",
   "metadata": {},
   "source": [
    "2 \n",
    "Convert Between °C and °F. Convert temperatures from one system to another.\n",
    "Create a print statement to convert 18.5° C to °F.\n",
    "Create a print statement to convert -4° F to °C."
   ]
  },
  {
   "cell_type": "code",
   "execution_count": null,
   "id": "a31b2ee0",
   "metadata": {},
   "outputs": [],
   "source": [
    "print(f\"Converting -4 F to C: {(-4 - 32) / 1.8}\")\n",
    "print(f'Converting 18.5 C to F: {round ((18.5 * 1.8) + 32, 2)}') "
   ]
  },
  {
   "cell_type": "markdown",
   "id": "8b9d55fd",
   "metadata": {},
   "source": [
    "6 \n",
    "Write a Python program that accepts an integer (n) and computes the value of n+nn+nnn"
   ]
  },
  {
   "cell_type": "code",
   "execution_count": null,
   "id": "bbe4a403",
   "metadata": {},
   "outputs": [],
   "source": [
    "n = int(input(\"int: \")) \n",
    "\n",
    "print(f\"computing n+nn+nnn: {n + (n*n) + ( n*n*n) }\" ) "
   ]
  },
  {
   "cell_type": "markdown",
   "id": "1fe65913",
   "metadata": {},
   "source": [
    "10 \n",
    "Write a program that generates a random decimal number between 1 and 10 with two decimal places of accuracy."
   ]
  },
  {
   "cell_type": "code",
   "execution_count": null,
   "id": "3c33aab4",
   "metadata": {},
   "outputs": [],
   "source": [
    "print(f\"generating: {random.randint(1, 10) / 100}\")"
   ]
  },
  {
   "cell_type": "markdown",
   "id": "e94a9170",
   "metadata": {},
   "source": [
    "14 \n",
    "Write a program that lets the user play Rock-Paper-Scissors against the computer. There should be three rounds, and after those three rounds, your program should print out who won and lost or that there is a tie."
   ]
  },
  {
   "cell_type": "code",
   "execution_count": null,
   "id": "977abab3",
   "metadata": {},
   "outputs": [],
   "source": [
    "choices = [\"Rock\", \"Paper\", \"Scissors\"]\n",
    "player_sc = 0\n",
    "bot_sc = 0\n",
    "\n",
    "for i in range(3):\n",
    "    player_choice = input(\"Rock, paper, or scissors? \")\n",
    "    while player_choice not in choices:\n",
    "        player_choice = input(\"Invalid choice. Please try again: \")\n",
    "        \n",
    "    computer_choice = random.choice(choices)\n",
    "    \n",
    "    if player_choice == computer_choice:\n",
    "        print(\"Tie!\")\n",
    "    elif player_choice == \"Rock\" and computer_choice == \"Scissors\":\n",
    "        player_sc += 1\n",
    "        print(\"You win!\")\n",
    "    elif player_choice == \"Paper\" and computer_choice == \"Rock\":\n",
    "        player_sc += 1\n",
    "        print(\"You win!\")\n",
    "    elif player_choice == \"Scissors\" and computer_choice == \"Paper\":\n",
    "        player_sc += 1\n",
    "        print(\"You win!\")\n",
    "    else:\n",
    "        bot_sc += 1\n",
    "        print(\"Computer wins!\")\n",
    "\n",
    "if player_sc > bot_sc:\n",
    "    print(\"You won the game!\")\n",
    "elif player_sc < bot_sc:\n",
    "    print(\"Computer won the game!\")\n",
    "else:\n",
    "    print(\"Tie!\")"
   ]
  },
  {
   "cell_type": "markdown",
   "id": "ad5a6970",
   "metadata": {},
   "source": [
    "18 \n",
    "Write a function that reverse the tuple."
   ]
  },
  {
   "cell_type": "code",
   "execution_count": null,
   "id": "a326c530",
   "metadata": {},
   "outputs": [],
   "source": [
    "def reverse_tuple(tup):\n",
    "  res = tuple(reversed(tup))\n",
    "  return res\n",
    "\n",
    "print(reverse_tuple((1, 2, 3, 4, 5)))"
   ]
  },
  {
   "cell_type": "markdown",
   "id": "08dce078",
   "metadata": {},
   "source": [
    "22 \n",
    "You are given an array prices where 𝑝𝑟𝑖𝑐𝑒𝑠[𝑖] is the price of a given stock on the 𝑖-th day.\n",
    "\n",
    "You want to maximize your profit by choosing a single day to buy one stock and choosing a different day in the future to sell that stock.\n",
    "\n",
    "Return the maximum profit you can achieve from this transaction. If you cannot achieve any profit, return 0\n",
    "\n",
    ".\n",
    "\n",
    "Example 1:\n",
    "\n",
    "Input: prices = [7,1,5,3,6,4]\n",
    "\n",
    "Output: 5\n",
    "\n",
    "Explanation: Buy on day 2 (price = 1) and sell on day 5 (price = 6), profit = 6-1 = 5. Note that buying on day 2 and selling on day 1 is not allowed because you must buy before you sell."
   ]
  },
  {
   "cell_type": "code",
   "execution_count": null,
   "id": "319c1ef8",
   "metadata": {},
   "outputs": [],
   "source": [
    "array = input(\"Enter your prices with a space: \")\n",
    "array = array.split()\n",
    "\n",
    "for i in range(len(array)):\n",
    "  array[i] = int(array[i])\n",
    "\n",
    "print(f\"The maximum profit is: {max(array) - min(array)}\")"
   ]
  },
  {
   "cell_type": "markdown",
   "id": "fb297700",
   "metadata": {},
   "source": [
    "26\n",
    "Given two strings 𝑠 and 𝑡, return True if 𝑡 is an anagram of 𝑠, and False otherwise.\n",
    "\n",
    "An Anagram is a word or phrase formed by rearranging the letters of a different word or phrase, typically using all the original letters exactly once."
   ]
  },
  {
   "cell_type": "code",
   "execution_count": null,
   "id": "d5fdc030",
   "metadata": {},
   "outputs": [],
   "source": [
    "def is_anagram(s, t):\n",
    "  s = s.lower()\n",
    "  t = t.lower()\n",
    "  s = sorted(s)\n",
    "  t = sorted(t)\n",
    "  return s == t\n",
    "\n",
    "\n",
    "print(is_anagram(\"silent\", \"listen\"))\n",
    "print(is_anagram(\"silent\", \"listen \")) \n",
    "print(is_anagram(\"silent\", \"list\"))  \n"
   ]
  }
 ],
 "metadata": {
  "kernelspec": {
   "display_name": "Python 3 (ipykernel)",
   "language": "python",
   "name": "python3"
  },
  "language_info": {
   "codemirror_mode": {
    "name": "ipython",
    "version": 3
   },
   "file_extension": ".py",
   "mimetype": "text/x-python",
   "name": "python",
   "nbconvert_exporter": "python",
   "pygments_lexer": "ipython3",
   "version": "3.10.9"
  }
 },
 "nbformat": 4,
 "nbformat_minor": 5
}
