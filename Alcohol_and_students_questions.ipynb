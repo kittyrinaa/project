{
 "cells": [
  {
   "cell_type": "markdown",
   "metadata": {},
   "source": [
    "1. Import required libraries"
   ]
  },
  {
   "cell_type": "code",
   "execution_count": 11,
   "metadata": {
    "executionInfo": {
     "elapsed": 366,
     "status": "ok",
     "timestamp": 1666102024174,
     "user": {
      "displayName": "Eugene Kshanovski",
      "userId": "16096043039519973201"
     },
     "user_tz": -180
    },
    "id": "DdXfiHGJOrO7"
   },
   "outputs": [],
   "source": [
    "import pandas as pd"
   ]
  },
  {
   "cell_type": "markdown",
   "metadata": {
    "colab": {
     "base_uri": "https://localhost:8080/",
     "height": 364
    },
    "executionInfo": {
     "elapsed": 13,
     "status": "ok",
     "timestamp": 1666104928085,
     "user": {
      "displayName": "Eugene Kshanovski",
      "userId": "16096043039519973201"
     },
     "user_tz": -180
    },
    "id": "63GP5rDAO7yY",
    "outputId": "278b1efb-601a-47f2-cc31-b7a1c224b81e"
   },
   "source": [
    "2. Read the dataset"
   ]
  },
  {
   "cell_type": "code",
   "execution_count": 12,
   "metadata": {},
   "outputs": [
    {
     "data": {
      "text/html": [
       "<div>\n",
       "<style scoped>\n",
       "    .dataframe tbody tr th:only-of-type {\n",
       "        vertical-align: middle;\n",
       "    }\n",
       "\n",
       "    .dataframe tbody tr th {\n",
       "        vertical-align: top;\n",
       "    }\n",
       "\n",
       "    .dataframe thead th {\n",
       "        text-align: right;\n",
       "    }\n",
       "</style>\n",
       "<table border=\"1\" class=\"dataframe\">\n",
       "  <thead>\n",
       "    <tr style=\"text-align: right;\">\n",
       "      <th></th>\n",
       "      <th>school</th>\n",
       "      <th>sex</th>\n",
       "      <th>age</th>\n",
       "      <th>address</th>\n",
       "      <th>famsize</th>\n",
       "      <th>Pstatus</th>\n",
       "      <th>Medu</th>\n",
       "      <th>Fedu</th>\n",
       "      <th>Mjob</th>\n",
       "      <th>Fjob</th>\n",
       "      <th>...</th>\n",
       "      <th>famrel</th>\n",
       "      <th>freetime</th>\n",
       "      <th>goout</th>\n",
       "      <th>Dalc</th>\n",
       "      <th>Walc</th>\n",
       "      <th>health</th>\n",
       "      <th>absences</th>\n",
       "      <th>G1</th>\n",
       "      <th>G2</th>\n",
       "      <th>G3</th>\n",
       "    </tr>\n",
       "  </thead>\n",
       "  <tbody>\n",
       "    <tr>\n",
       "      <th>0</th>\n",
       "      <td>GP</td>\n",
       "      <td>F</td>\n",
       "      <td>18</td>\n",
       "      <td>U</td>\n",
       "      <td>GT3</td>\n",
       "      <td>A</td>\n",
       "      <td>4</td>\n",
       "      <td>4</td>\n",
       "      <td>at_home</td>\n",
       "      <td>teacher</td>\n",
       "      <td>...</td>\n",
       "      <td>4</td>\n",
       "      <td>3</td>\n",
       "      <td>4</td>\n",
       "      <td>1</td>\n",
       "      <td>1</td>\n",
       "      <td>3</td>\n",
       "      <td>6</td>\n",
       "      <td>5</td>\n",
       "      <td>6</td>\n",
       "      <td>6</td>\n",
       "    </tr>\n",
       "    <tr>\n",
       "      <th>1</th>\n",
       "      <td>GP</td>\n",
       "      <td>F</td>\n",
       "      <td>17</td>\n",
       "      <td>U</td>\n",
       "      <td>GT3</td>\n",
       "      <td>T</td>\n",
       "      <td>1</td>\n",
       "      <td>1</td>\n",
       "      <td>at_home</td>\n",
       "      <td>other</td>\n",
       "      <td>...</td>\n",
       "      <td>5</td>\n",
       "      <td>3</td>\n",
       "      <td>3</td>\n",
       "      <td>1</td>\n",
       "      <td>1</td>\n",
       "      <td>3</td>\n",
       "      <td>4</td>\n",
       "      <td>5</td>\n",
       "      <td>5</td>\n",
       "      <td>6</td>\n",
       "    </tr>\n",
       "    <tr>\n",
       "      <th>2</th>\n",
       "      <td>GP</td>\n",
       "      <td>F</td>\n",
       "      <td>15</td>\n",
       "      <td>U</td>\n",
       "      <td>LE3</td>\n",
       "      <td>T</td>\n",
       "      <td>1</td>\n",
       "      <td>1</td>\n",
       "      <td>at_home</td>\n",
       "      <td>other</td>\n",
       "      <td>...</td>\n",
       "      <td>4</td>\n",
       "      <td>3</td>\n",
       "      <td>2</td>\n",
       "      <td>2</td>\n",
       "      <td>3</td>\n",
       "      <td>3</td>\n",
       "      <td>10</td>\n",
       "      <td>7</td>\n",
       "      <td>8</td>\n",
       "      <td>10</td>\n",
       "    </tr>\n",
       "    <tr>\n",
       "      <th>3</th>\n",
       "      <td>GP</td>\n",
       "      <td>F</td>\n",
       "      <td>15</td>\n",
       "      <td>U</td>\n",
       "      <td>GT3</td>\n",
       "      <td>T</td>\n",
       "      <td>4</td>\n",
       "      <td>2</td>\n",
       "      <td>health</td>\n",
       "      <td>services</td>\n",
       "      <td>...</td>\n",
       "      <td>3</td>\n",
       "      <td>2</td>\n",
       "      <td>2</td>\n",
       "      <td>1</td>\n",
       "      <td>1</td>\n",
       "      <td>5</td>\n",
       "      <td>2</td>\n",
       "      <td>15</td>\n",
       "      <td>14</td>\n",
       "      <td>15</td>\n",
       "    </tr>\n",
       "    <tr>\n",
       "      <th>4</th>\n",
       "      <td>GP</td>\n",
       "      <td>F</td>\n",
       "      <td>16</td>\n",
       "      <td>U</td>\n",
       "      <td>GT3</td>\n",
       "      <td>T</td>\n",
       "      <td>3</td>\n",
       "      <td>3</td>\n",
       "      <td>other</td>\n",
       "      <td>other</td>\n",
       "      <td>...</td>\n",
       "      <td>4</td>\n",
       "      <td>3</td>\n",
       "      <td>2</td>\n",
       "      <td>1</td>\n",
       "      <td>2</td>\n",
       "      <td>5</td>\n",
       "      <td>4</td>\n",
       "      <td>6</td>\n",
       "      <td>10</td>\n",
       "      <td>10</td>\n",
       "    </tr>\n",
       "    <tr>\n",
       "      <th>...</th>\n",
       "      <td>...</td>\n",
       "      <td>...</td>\n",
       "      <td>...</td>\n",
       "      <td>...</td>\n",
       "      <td>...</td>\n",
       "      <td>...</td>\n",
       "      <td>...</td>\n",
       "      <td>...</td>\n",
       "      <td>...</td>\n",
       "      <td>...</td>\n",
       "      <td>...</td>\n",
       "      <td>...</td>\n",
       "      <td>...</td>\n",
       "      <td>...</td>\n",
       "      <td>...</td>\n",
       "      <td>...</td>\n",
       "      <td>...</td>\n",
       "      <td>...</td>\n",
       "      <td>...</td>\n",
       "      <td>...</td>\n",
       "      <td>...</td>\n",
       "    </tr>\n",
       "    <tr>\n",
       "      <th>390</th>\n",
       "      <td>MS</td>\n",
       "      <td>M</td>\n",
       "      <td>20</td>\n",
       "      <td>U</td>\n",
       "      <td>LE3</td>\n",
       "      <td>A</td>\n",
       "      <td>2</td>\n",
       "      <td>2</td>\n",
       "      <td>services</td>\n",
       "      <td>services</td>\n",
       "      <td>...</td>\n",
       "      <td>5</td>\n",
       "      <td>5</td>\n",
       "      <td>4</td>\n",
       "      <td>4</td>\n",
       "      <td>5</td>\n",
       "      <td>4</td>\n",
       "      <td>11</td>\n",
       "      <td>9</td>\n",
       "      <td>9</td>\n",
       "      <td>9</td>\n",
       "    </tr>\n",
       "    <tr>\n",
       "      <th>391</th>\n",
       "      <td>MS</td>\n",
       "      <td>M</td>\n",
       "      <td>17</td>\n",
       "      <td>U</td>\n",
       "      <td>LE3</td>\n",
       "      <td>T</td>\n",
       "      <td>3</td>\n",
       "      <td>1</td>\n",
       "      <td>services</td>\n",
       "      <td>services</td>\n",
       "      <td>...</td>\n",
       "      <td>2</td>\n",
       "      <td>4</td>\n",
       "      <td>5</td>\n",
       "      <td>3</td>\n",
       "      <td>4</td>\n",
       "      <td>2</td>\n",
       "      <td>3</td>\n",
       "      <td>14</td>\n",
       "      <td>16</td>\n",
       "      <td>16</td>\n",
       "    </tr>\n",
       "    <tr>\n",
       "      <th>392</th>\n",
       "      <td>MS</td>\n",
       "      <td>M</td>\n",
       "      <td>21</td>\n",
       "      <td>R</td>\n",
       "      <td>GT3</td>\n",
       "      <td>T</td>\n",
       "      <td>1</td>\n",
       "      <td>1</td>\n",
       "      <td>other</td>\n",
       "      <td>other</td>\n",
       "      <td>...</td>\n",
       "      <td>5</td>\n",
       "      <td>5</td>\n",
       "      <td>3</td>\n",
       "      <td>3</td>\n",
       "      <td>3</td>\n",
       "      <td>3</td>\n",
       "      <td>3</td>\n",
       "      <td>10</td>\n",
       "      <td>8</td>\n",
       "      <td>7</td>\n",
       "    </tr>\n",
       "    <tr>\n",
       "      <th>393</th>\n",
       "      <td>MS</td>\n",
       "      <td>M</td>\n",
       "      <td>18</td>\n",
       "      <td>R</td>\n",
       "      <td>LE3</td>\n",
       "      <td>T</td>\n",
       "      <td>3</td>\n",
       "      <td>2</td>\n",
       "      <td>services</td>\n",
       "      <td>other</td>\n",
       "      <td>...</td>\n",
       "      <td>4</td>\n",
       "      <td>4</td>\n",
       "      <td>1</td>\n",
       "      <td>3</td>\n",
       "      <td>4</td>\n",
       "      <td>5</td>\n",
       "      <td>0</td>\n",
       "      <td>11</td>\n",
       "      <td>12</td>\n",
       "      <td>10</td>\n",
       "    </tr>\n",
       "    <tr>\n",
       "      <th>394</th>\n",
       "      <td>MS</td>\n",
       "      <td>M</td>\n",
       "      <td>19</td>\n",
       "      <td>U</td>\n",
       "      <td>LE3</td>\n",
       "      <td>T</td>\n",
       "      <td>1</td>\n",
       "      <td>1</td>\n",
       "      <td>other</td>\n",
       "      <td>at_home</td>\n",
       "      <td>...</td>\n",
       "      <td>3</td>\n",
       "      <td>2</td>\n",
       "      <td>3</td>\n",
       "      <td>3</td>\n",
       "      <td>3</td>\n",
       "      <td>5</td>\n",
       "      <td>5</td>\n",
       "      <td>8</td>\n",
       "      <td>9</td>\n",
       "      <td>9</td>\n",
       "    </tr>\n",
       "  </tbody>\n",
       "</table>\n",
       "<p>395 rows × 33 columns</p>\n",
       "</div>"
      ],
      "text/plain": [
       "    school sex  age address famsize Pstatus  Medu  Fedu      Mjob      Fjob  \\\n",
       "0       GP   F   18       U     GT3       A     4     4   at_home   teacher   \n",
       "1       GP   F   17       U     GT3       T     1     1   at_home     other   \n",
       "2       GP   F   15       U     LE3       T     1     1   at_home     other   \n",
       "3       GP   F   15       U     GT3       T     4     2    health  services   \n",
       "4       GP   F   16       U     GT3       T     3     3     other     other   \n",
       "..     ...  ..  ...     ...     ...     ...   ...   ...       ...       ...   \n",
       "390     MS   M   20       U     LE3       A     2     2  services  services   \n",
       "391     MS   M   17       U     LE3       T     3     1  services  services   \n",
       "392     MS   M   21       R     GT3       T     1     1     other     other   \n",
       "393     MS   M   18       R     LE3       T     3     2  services     other   \n",
       "394     MS   M   19       U     LE3       T     1     1     other   at_home   \n",
       "\n",
       "     ... famrel freetime  goout  Dalc  Walc health absences  G1  G2  G3  \n",
       "0    ...      4        3      4     1     1      3        6   5   6   6  \n",
       "1    ...      5        3      3     1     1      3        4   5   5   6  \n",
       "2    ...      4        3      2     2     3      3       10   7   8  10  \n",
       "3    ...      3        2      2     1     1      5        2  15  14  15  \n",
       "4    ...      4        3      2     1     2      5        4   6  10  10  \n",
       "..   ...    ...      ...    ...   ...   ...    ...      ...  ..  ..  ..  \n",
       "390  ...      5        5      4     4     5      4       11   9   9   9  \n",
       "391  ...      2        4      5     3     4      2        3  14  16  16  \n",
       "392  ...      5        5      3     3     3      3        3  10   8   7  \n",
       "393  ...      4        4      1     3     4      5        0  11  12  10  \n",
       "394  ...      3        2      3     3     3      5        5   8   9   9  \n",
       "\n",
       "[395 rows x 33 columns]"
      ]
     },
     "execution_count": 12,
     "metadata": {},
     "output_type": "execute_result"
    }
   ],
   "source": [
    "data = pd.read_csv('Maths.csv')\n",
    "data"
   ]
  },
  {
   "cell_type": "markdown",
   "metadata": {
    "id": "Zsd9GO4oF1CY"
   },
   "source": [
    "3. How many rows the dataset contains?"
   ]
  },
  {
   "cell_type": "code",
   "execution_count": 13,
   "metadata": {
    "id": "VTsAmhzDGYC7"
   },
   "outputs": [
    {
     "data": {
      "text/plain": [
       "395"
      ]
     },
     "execution_count": 13,
     "metadata": {},
     "output_type": "execute_result"
    }
   ],
   "source": [
    "rows = len(data)\n",
    "rows"
   ]
  },
  {
   "cell_type": "markdown",
   "metadata": {
    "id": "Zsd9GO4oF1CY"
   },
   "source": [
    "4. Does the dataset contain NaNs?"
   ]
  },
  {
   "cell_type": "code",
   "execution_count": 14,
   "metadata": {
    "id": "VTsAmhzDGYC7"
   },
   "outputs": [
    {
     "name": "stdout",
     "output_type": "stream",
     "text": [
      "No\n"
     ]
    }
   ],
   "source": [
    "check = data.isna().any().any()\n",
    "if check:\n",
    "    print(\"Yes\")\n",
    "else:\n",
    "    print(\"No\")\n"
   ]
  },
  {
   "cell_type": "markdown",
   "metadata": {
    "id": "Zsd9GO4oF1CY"
   },
   "source": [
    "5. Compare students with parents living apart vs students whose parents live together. Which group consumes more alcohol?\n",
    "\n",
    "Чи студенти, у яких батьки живуть окремо, споживають більше алкоголю, ніж студенти, у яких батьки живуть разом"
   ]
  },
  {
   "cell_type": "code",
   "execution_count": 15,
   "metadata": {
    "id": "VTsAmhzDGYC7"
   },
   "outputs": [
    {
     "data": {
      "text/plain": [
       "False"
      ]
     },
     "execution_count": 15,
     "metadata": {},
     "output_type": "execute_result"
    }
   ],
   "source": [
    "tog = data[data['Pstatus'] == 'T'].Walc.sum() / len(data[data['Pstatus'] == 'T'])\n",
    "ap =data[data['Pstatus'] == 'A'].Walc.sum() / len(data[data['Pstatus'] == 'A'])\n",
    "ap > tog"
   ]
  },
  {
   "cell_type": "markdown",
   "metadata": {
    "id": "-tLmFaT5Ghaa"
   },
   "source": [
    "6. Do families living in village have more children? Report the difference in %.\n",
    "\n",
    "Наскільки більше у відсотках сільські сім'ї мають більше дітей?"
   ]
  },
  {
   "cell_type": "code",
   "execution_count": 24,
   "metadata": {
    "id": "YX666HujGtJV"
   },
   "outputs": [
    {
     "name": "stdout",
     "output_type": "stream",
     "text": [
      "11.37%\n"
     ]
    },
    {
     "name": "stderr",
     "output_type": "stream",
     "text": [
      "C:\\Users\\Катерина\\AppData\\Local\\Temp\\ipykernel_13452\\418269145.py:2: UserWarning: Boolean Series key will be reindexed to match DataFrame index.\n",
      "  rbigfams = len(cleardata[data['address'] == 'R']) / len(data[data['address'] == 'R'])*100\n",
      "C:\\Users\\Катерина\\AppData\\Local\\Temp\\ipykernel_13452\\418269145.py:3: UserWarning: Boolean Series key will be reindexed to match DataFrame index.\n",
      "  ubigfams = len(cleardata[data['address'] == 'U']) / len(data[data['address'] == 'U'])*100\n"
     ]
    }
   ],
   "source": [
    "cleardata = data[data['famsize']== 'GT3']\n",
    "rbigfams = len(cleardata[data['address'] == 'R']) / len(data[data['address'] == 'R'])*100\n",
    "ubigfams = len(cleardata[data['address'] == 'U']) / len(data[data['address'] == 'U'])*100\n",
    "result = (max([rbigfams, ubigfams])/min([rbigfams, ubigfams])-1)*100\n",
    "print(f'{round(result,2)}%')"
   ]
  },
  {
   "cell_type": "markdown",
   "metadata": {
    "id": "-5CaD63xGuc3"
   },
   "source": [
    "7. Does the lack of internet influence the student marks?\n",
    "\n",
    "Наскільки відсутність інтернету дома впливає на оцінки студента?"
   ]
  },
  {
   "cell_type": "code",
   "execution_count": 16,
   "metadata": {
    "id": "B3nhtrFkG0FJ"
   },
   "outputs": [
    {
     "data": {
      "text/plain": [
       "internet\n",
       "no     29.500000\n",
       "yes    32.547112\n",
       "Name: G4, dtype: float64"
      ]
     },
     "execution_count": 16,
     "metadata": {},
     "output_type": "execute_result"
    }
   ],
   "source": [
    "data['G4'] = data['G1']+ data['G2'] +data['G3']\n",
    "data.groupby('internet')['G4'].mean()"
   ]
  },
  {
   "cell_type": "markdown",
   "metadata": {
    "id": "V5zSS9-gG1Mw"
   },
   "source": [
    "8. Does alcohol consumption during weekends influence the absence at lessons?\n",
    "\n",
    "Наскільки вживання алкоголю по вихідним впливає на пропуски занять?"
   ]
  },
  {
   "cell_type": "code",
   "execution_count": 17,
   "metadata": {
    "id": "e_qLSCcYG64G"
   },
   "outputs": [
    {
     "data": {
      "text/plain": [
       "Walc\n",
       "1    4.854305\n",
       "2    4.588235\n",
       "3    6.425000\n",
       "4    8.333333\n",
       "5    6.892857\n",
       "Name: absences, dtype: float64"
      ]
     },
     "execution_count": 17,
     "metadata": {},
     "output_type": "execute_result"
    }
   ],
   "source": [
    "data.groupby('Walc')['absences'].mean()"
   ]
  },
  {
   "cell_type": "markdown",
   "metadata": {
    "id": "wzdivUppG8Sa"
   },
   "source": [
    "9. Compare students whose parents work at health vs others. Does the level of alcohol comsumptions at weekdays differ for those 2 groups?\n",
    "\n",
    "Чи відрізняється показник вживання алкоголю по буднях у студентів, у яких батько або мати працюють у сфері охорони здоров'я порівняно з іншими студентами?"
   ]
  },
  {
   "cell_type": "code",
   "execution_count": 19,
   "metadata": {},
   "outputs": [
    {
     "name": "stdout",
     "output_type": "stream",
     "text": [
      "Difference of the level of alcohol comsumptions by students at weekdays,whose parents work at health vs others -0.225 \n"
     ]
    }
   ],
   "source": [
    "h_workers = data[(data['Mjob'] == 'health') | (data['Fjob'] == 'health')]\n",
    "nh_workers = data[(data['Mjob'] != 'health') & (data['Fjob'] != 'health')]\n",
    "alcohol_h = h_workers['Dalc'].mean()\n",
    "alcohol_nh = nh_workers['Dalc'].mean()\n",
    "print(f'Difference of the level of alcohol comsumptions by students at weekdays,\\\n",
    "whose parents work at health vs others {round(alcohol_h - alcohol_nh,3)} ')"
   ]
  },
  {
   "cell_type": "markdown",
   "metadata": {
    "id": "CSpwK1NNHJ2k"
   },
   "source": [
    "10. Compare students living in village vs city. Which group of students miss more lessons?\n",
    "\n",
    "Яка група студентів більше пропускає занять: ті, які живуть у місті, чи в селах?"
   ]
  },
  {
   "cell_type": "code",
   "execution_count": 20,
   "metadata": {
    "id": "RpST00qvHX9Q"
   },
   "outputs": [
    {
     "name": "stdout",
     "output_type": "stream",
     "text": [
      "Vilage students miss more lessons\n"
     ]
    }
   ],
   "source": [
    "vstudents = data[data['address'] == 'R'] \n",
    "cstudents = data[data['address'] == 'U']\n",
    "vabs = vstudents['absences'].mean()\n",
    "cabs = cstudents['absences'].mean()\n",
    "if vabs > cabs:\n",
    "    print('Vilage students miss more lessons')\n",
    "elif cads > vabs :\n",
    "    print('City students miss more lessons')\n",
    "else:\n",
    "    print('Absense is equel')"
   ]
  },
  {
   "cell_type": "markdown",
   "metadata": {
    "id": "jgyvtgqeHZ-o"
   },
   "source": [
    "11. What is the % of students with max level of health does extra-curricular activities?\n",
    "\n",
    "Який відсоток студентів, які мають максимальну оцінку здоров'я, відвідують позапланові заходи?"
   ]
  },
  {
   "cell_type": "code",
   "execution_count": 21,
   "metadata": {
    "id": "FOmvqgNIHgJj"
   },
   "outputs": [
    {
     "name": "stdout",
     "output_type": "stream",
     "text": [
      "52.74% of students with max health do extra-curricular activities\n"
     ]
    }
   ],
   "source": [
    "mh_students = data[data['health'] == 5]\n",
    "total_mh_students = len(mh_students)\n",
    "activ_count = len(mh_students[mh_students['activities'] == 'yes'])\n",
    "per_a = (activ_count / total_mh_students) * 100\n",
    "print(f\"{per_a:.2f}% of students with max health do extra-curricular activities\")"
   ]
  },
  {
   "cell_type": "markdown",
   "metadata": {
    "id": "rXCwnlArHh3e"
   },
   "source": [
    "12. Consider a group of families with 3 and more children vs a group of all other students. Which group has better family relationship?\n",
    "\n",
    "Які сім'ї мають кращі стосунки у сім'ї: багатодітні (3 і більше дітей) чи з 1-2 дітьми?"
   ]
  },
  {
   "cell_type": "code",
   "execution_count": 22,
   "metadata": {
    "id": "6EpHu8cDHl7Y"
   },
   "outputs": [
    {
     "name": "stdout",
     "output_type": "stream",
     "text": [
      "A group of families with 3 and more children have better relationship\n"
     ]
    }
   ],
   "source": [
    "big_fam = data[data['famsize']=='GT3']\n",
    "small_fam = data[data['famsize'] == 'LE3']\n",
    "avg_famrel_bigf = big_fam['famrel'].mean()\n",
    "avg_famrel_smallf = small_fam['famrel'].mean()\n",
    "if avg_famrel_bigf > avg_famrel_smallf: \n",
    "    print('A group of families with 3 and more children have better relationship')\n",
    "elif avg_famrel_bigf < avg_famrel_smallf: \n",
    "    print('Small family have better relationship ')\n",
    "else:\n",
    "    print('It is equel')"
   ]
  },
  {
   "cell_type": "markdown",
   "metadata": {
    "id": "-wjrMoVHHuFi"
   },
   "source": [
    "13. Report the % of students with family relationship <= 2 that do not want to take higher education.\n",
    "\n",
    "Який відсоток студентів з сімейними стосунками <= 2 не хочуть отримувати вищу освіту в майбутньому? "
   ]
  },
  {
   "cell_type": "code",
   "execution_count": 23,
   "metadata": {
    "id": "yfpjARqMHwh1"
   },
   "outputs": [
    {
     "name": "stdout",
     "output_type": "stream",
     "text": [
      "3.85%\n"
     ]
    }
   ],
   "source": [
    "low_famrel = data[data['famrel'] <= 2]\n",
    "total_low = len(low_famrel)\n",
    "no_higher_edu = len(low_famrel[low_famrel['higher'] == 'no'])\n",
    "per_no_he = (no_higher_edu / total_low) * 100\n",
    "print(f'{per_no_he:.2f}%')"
   ]
  },
  {
   "cell_type": "markdown",
   "metadata": {
    "id": "TiC3JauTHxv0"
   },
   "source": [
    "14. Report the % of students who consume more than average amount of alcohol going out with friends the most?\n",
    "\n",
    "Який відсоток студентів, які споживають взагальному(і по буднях і по вікендах) алкоголю більше середнього, гуляють з друзями найбільше?"
   ]
  },
  {
   "cell_type": "code",
   "execution_count": 9,
   "metadata": {
    "id": "hln4mbJwH1h7"
   },
   "outputs": [
    {
     "name": "stdout",
     "output_type": "stream",
     "text": [
      "9.87%\n"
     ]
    }
   ],
   "source": [
    "aver_alco = data['Walc'].mean() + data['Dalc'].mean()\n",
    "high = data[(data['Walc']+data['Dalc'] > aver_alco) & (data['goout'] == 5)]\n",
    "total_high = len(high)\n",
    "total_students = len(data)\n",
    "per_high= (total_high/total_students)*100\n",
    "print(f'{per_high:.2f}%')"
   ]
  },
  {
   "cell_type": "markdown",
   "metadata": {},
   "source": [
    "15. Come up with 3 more questions and provide solutions for them.\n",
    "\n",
    "Придумайте своїх 3 запитання і напишіть для них розв'язок."
   ]
  },
  {
   "cell_type": "markdown",
   "metadata": {},
   "source": [
    "15.1 Погрупувати респондентів за статтю та віком"
   ]
  },
  {
   "cell_type": "code",
   "execution_count": 25,
   "metadata": {},
   "outputs": [
    {
     "name": "stdout",
     "output_type": "stream",
     "text": [
      "age  sex\n",
      "15   F      15.0\n",
      "     M      15.0\n",
      "16   F      16.0\n",
      "     M      16.0\n",
      "17   F      17.0\n",
      "     M      17.0\n",
      "18   F      18.0\n",
      "     M      18.0\n",
      "19   F      19.0\n",
      "     M      19.0\n",
      "20   F      20.0\n",
      "     M      20.0\n",
      "21   M      21.0\n",
      "22   M      22.0\n",
      "Name: age, dtype: float64\n"
     ]
    }
   ],
   "source": [
    "grouped_data = data.groupby(['age', 'sex'])\n",
    "mean_age_by_group = grouped_data['age'].mean()\n",
    "print(mean_age_by_group)\n"
   ]
  },
  {
   "cell_type": "markdown",
   "metadata": {},
   "source": [
    "Щось повізуалізуємо"
   ]
  },
  {
   "cell_type": "code",
   "execution_count": 28,
   "metadata": {},
   "outputs": [],
   "source": [
    "import matplotlib.pyplot as plt\n"
   ]
  },
  {
   "cell_type": "markdown",
   "metadata": {},
   "source": [
    "15.2 Зробимо кругову діаграму розподілу за статтю"
   ]
  },
  {
   "cell_type": "code",
   "execution_count": 32,
   "metadata": {},
   "outputs": [
    {
     "data": {
      "image/png": "[encoded data removed]",
      "text/plain": [
       "<Figure size 600x600 with 1 Axes>"
      ]
     },
     "metadata": {},
     "output_type": "display_data"
    }
   ],
   "source": [
    "gender_counts = data['sex'].value_counts()\n",
    "plt.figure(figsize=(6, 6))\n",
    "plt.pie(gender_counts, labels=gender_counts.index, autopct='%1.1f%%', startangle=90)\n",
    "plt.title('Розподіл респондентів за статтю')\n",
    "plt.axis('equal')\n",
    "plt.show()\n"
   ]
  },
  {
   "cell_type": "markdown",
   "metadata": {},
   "source": [
    "15.3 А тепер ще подивимося на розподіл за місцем роботи"
   ]
  },
  {
   "cell_type": "code",
   "execution_count": 31,
   "metadata": {},
   "outputs": [
    {
     "data": {
      "image/png": "[encoded data removed]",
      "text/plain": [
       "<Figure size 1000x600 with 1 Axes>"
      ]
     },
     "metadata": {},
     "output_type": "display_data"
    }
   ],
   "source": [
    "workplace_counts = data['Mjob'].value_counts()\n",
    "plt.figure(figsize=(10, 6))\n",
    "workplace_counts.plot(kind='bar', color='pink')\n",
    "plt.title('Розподіл респондентів за місцем роботи')\n",
    "plt.xlabel('Місце роботи')\n",
    "plt.ylabel('Кількість респондентів')\n",
    "plt.xticks(rotation=45)  \n",
    "plt.show()"
   ]
  }
 ],
 "metadata": {
  "colab": {
   "authorship_tag": "ABX9TyOp4k34RmiXvs2sEtpu/pXp",
   "provenance": []
  },
  "kernelspec": {
   "display_name": "Python 3 (ipykernel)",
   "language": "python",
   "name": "python3"
  },
  "language_info": {
   "codemirror_mode": {
    "name": "ipython",
    "version": 3
   },
   "file_extension": ".py",
   "mimetype": "text/x-python",
   "name": "python",
   "nbconvert_exporter": "python",
   "pygments_lexer": "ipython3",
   "version": "3.11.6"
  }
 },
 "nbformat": 4,
 "nbformat_minor": 1
}
